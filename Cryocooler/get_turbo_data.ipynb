{
 "cells": [
  {
   "cell_type": "code",
   "execution_count": 1,
   "metadata": {},
   "outputs": [],
   "source": [
    "import serial "
   ]
  },
  {
   "cell_type": "code",
   "execution_count": 3,
   "metadata": {},
   "outputs": [
    {
     "name": "stdout",
     "output_type": "stream",
     "text": [
      "error\n"
     ]
    }
   ],
   "source": [
    "from unittest import expectedFailure\n",
    "try:\n",
    "\n",
    "# open the serial device\n",
    "\n",
    "    ser0  = serial.Serial(port='COM10',\n",
    "                            baudrate=9600,\n",
    "                            parity=serial.PARITY_NONE,\n",
    "                            stopbits=serial.STOPBITS_ONE,\n",
    "                            bytesize=serial.EIGHTBITS)\n",
    "    ser0.timeout = 4\n",
    "    ser0.xonxoff = False\n",
    "    ser0.rtscts = False\n",
    "    ser0.dsrdtr = False\n",
    "except: \n",
    "    print(\"error\")"
   ]
  },
  {
   "cell_type": "markdown",
   "metadata": {},
   "source": [
    "02 80 32 30 32 30 03 38 33\t"
   ]
  },
  {
   "cell_type": "code",
   "execution_count": 46,
   "metadata": {},
   "outputs": [],
   "source": [
    "import time"
   ]
  },
  {
   "cell_type": "code",
   "execution_count": 57,
   "metadata": {},
   "outputs": [],
   "source": [
    "\n",
    "stx=chr(0x2)\n",
    "addr = chr(0x80)\n",
    "\n",
    "# cmd =stx+addr+\"205\"+\"0\"+chr(0x03)+chr(0x38)+chr(0x37)\n",
    "cmd= stx+addr+chr(0x32)+chr(0x30)+chr(0x35)+chr(0x30)+chr(0x03)+chr(0x38)+chr(0x37)\n",
    "ser0.write(cmd.encode())\n",
    "time.sleep(1)\n",
    "out=ser0.readlines()\n",
    "# out1=ser0.readlines(5)\n"
   ]
  },
  {
   "cell_type": "code",
   "execution_count": 58,
   "metadata": {},
   "outputs": [
    {
     "data": {
      "text/plain": [
       "[b'\\x02\\x83\\x15\\x0395']"
      ]
     },
     "execution_count": 58,
     "metadata": {},
     "output_type": "execute_result"
    }
   ],
   "source": [
    "\n",
    "out"
   ]
  },
  {
   "cell_type": "code",
   "execution_count": 49,
   "metadata": {},
   "outputs": [
    {
     "ename": "SyntaxError",
     "evalue": "leading zeros in decimal integer literals are not permitted; use an 0o prefix for octal integers (Temp/ipykernel_5704/1983954955.py, line 1)",
     "output_type": "error",
     "traceback": [
      "\u001b[1;36m  File \u001b[1;32m\"C:\\Users\\aafaq\\AppData\\Local\\Temp/ipykernel_5704/1983954955.py\"\u001b[1;36m, line \u001b[1;32m1\u001b[0m\n\u001b[1;33m    02 80 32 32 34 30 03 38 37\u001b[0m\n\u001b[1;37m     ^\u001b[0m\n\u001b[1;31mSyntaxError\u001b[0m\u001b[1;31m:\u001b[0m leading zeros in decimal integer literals are not permitted; use an 0o prefix for octal integers\n"
     ]
    }
   ],
   "source": [
    "02 80 32 32 34 30 03 38 37 "
   ]
  },
  {
   "cell_type": "code",
   "execution_count": 1,
   "metadata": {},
   "outputs": [],
   "source": [
    "import pyvisa as visa"
   ]
  },
  {
   "cell_type": "code",
   "execution_count": 2,
   "metadata": {},
   "outputs": [],
   "source": [
    "rm=visa.ResourceManager()\n"
   ]
  },
  {
   "cell_type": "code",
   "execution_count": 3,
   "metadata": {},
   "outputs": [
    {
     "data": {
      "text/plain": [
       "('ASRL8::INSTR', 'ASRL7::INSTR', 'ASRL10::INSTR')"
      ]
     },
     "execution_count": 3,
     "metadata": {},
     "output_type": "execute_result"
    }
   ],
   "source": [
    "rm.list_resources()\n"
   ]
  },
  {
   "cell_type": "code",
   "execution_count": 4,
   "metadata": {},
   "outputs": [],
   "source": [
    "agilent=rm.open_resource(resource_name='ASRL10::INSTR')\n",
    "agilent.baud_rate=9600\n",
    "agilent.data_bits=8\n",
    "agilent.partiy=visa.constants.Parity.none\n",
    "agilent.flow_control=visa.constants.VI_ASRL_FLOW_NONE\n",
    "agilent.timeout=None"
   ]
  },
  {
   "cell_type": "code",
   "execution_count": 5,
   "metadata": {},
   "outputs": [
    {
     "data": {
      "text/plain": [
       "1"
      ]
     },
     "execution_count": 5,
     "metadata": {},
     "output_type": "execute_result"
    }
   ],
   "source": [
    "result = int('80',16)^int('32',16)^int('32',16)^int('34',16)^int('30',16)^int('03',16)\n",
    "cksum = '{:x}'.format(result)\n",
    "cmd = chr(0x2)\n",
    "ser0.write(cmd.encode())\n",
    "\n",
    "# cmdstr='%s\\r' % cmd\n",
    "# cmdstr=str(cmdstr)"
   ]
  },
  {
   "cell_type": "code",
   "execution_count": 19,
   "metadata": {},
   "outputs": [
    {
     "data": {
      "text/plain": [
       "706"
      ]
     },
     "execution_count": 19,
     "metadata": {},
     "output_type": "execute_result"
    }
   ],
   "source": [
    "cmd\n",
    "cmd.encode()\n",
    "cmdstr=binascii.hexlify(cmdstr).decode()\n",
    "agilent.write(cmdstr)"
   ]
  },
  {
   "cell_type": "code",
   "execution_count": 12,
   "metadata": {},
   "outputs": [
    {
     "ename": "TypeError",
     "evalue": "endswith first arg must be bytes or a tuple of bytes, not str",
     "output_type": "error",
     "traceback": [
      "\u001b[1;31m---------------------------------------------------------------------------\u001b[0m",
      "\u001b[1;31mTypeError\u001b[0m                                 Traceback (most recent call last)",
      "\u001b[1;32m~\\AppData\\Local\\Temp/ipykernel_7740/3554897100.py\u001b[0m in \u001b[0;36m<module>\u001b[1;34m\u001b[0m\n\u001b[0;32m      4\u001b[0m \u001b[0mcmd\u001b[0m\u001b[1;33m.\u001b[0m\u001b[0mencode\u001b[0m\u001b[1;33m(\u001b[0m\u001b[1;33m)\u001b[0m\u001b[1;33m\u001b[0m\u001b[1;33m\u001b[0m\u001b[0m\n\u001b[0;32m      5\u001b[0m \u001b[0mcmdstr\u001b[0m\u001b[1;33m=\u001b[0m\u001b[0mbinascii\u001b[0m\u001b[1;33m.\u001b[0m\u001b[0mhexlify\u001b[0m\u001b[1;33m(\u001b[0m\u001b[0mcmdstr\u001b[0m\u001b[1;33m)\u001b[0m\u001b[1;33m\u001b[0m\u001b[1;33m\u001b[0m\u001b[0m\n\u001b[1;32m----> 6\u001b[1;33m \u001b[0magilent\u001b[0m\u001b[1;33m.\u001b[0m\u001b[0mwrite\u001b[0m\u001b[1;33m(\u001b[0m\u001b[0mcmdstr\u001b[0m\u001b[1;33m)\u001b[0m\u001b[1;33m\u001b[0m\u001b[1;33m\u001b[0m\u001b[0m\n\u001b[0m\u001b[0;32m      7\u001b[0m \u001b[0mtime\u001b[0m\u001b[1;33m.\u001b[0m\u001b[0msleep\u001b[0m\u001b[1;33m(\u001b[0m\u001b[1;36m0.5\u001b[0m\u001b[1;33m)\u001b[0m\u001b[1;33m\u001b[0m\u001b[1;33m\u001b[0m\u001b[0m\n\u001b[0;32m      8\u001b[0m \u001b[1;31m# agilent.read_raw()\u001b[0m\u001b[1;33m\u001b[0m\u001b[1;33m\u001b[0m\u001b[1;33m\u001b[0m\u001b[0m\n",
      "\u001b[1;32mc:\\Users\\aafaq\\anaconda3\\lib\\site-packages\\pyvisa\\resources\\messagebased.py\u001b[0m in \u001b[0;36mwrite\u001b[1;34m(self, message, termination, encoding)\u001b[0m\n\u001b[0;32m    188\u001b[0m \u001b[1;33m\u001b[0m\u001b[0m\n\u001b[0;32m    189\u001b[0m         \u001b[1;32mif\u001b[0m \u001b[0mterm\u001b[0m\u001b[1;33m:\u001b[0m\u001b[1;33m\u001b[0m\u001b[1;33m\u001b[0m\u001b[0m\n\u001b[1;32m--> 190\u001b[1;33m             \u001b[1;32mif\u001b[0m \u001b[0mmessage\u001b[0m\u001b[1;33m.\u001b[0m\u001b[0mendswith\u001b[0m\u001b[1;33m(\u001b[0m\u001b[0mterm\u001b[0m\u001b[1;33m)\u001b[0m\u001b[1;33m:\u001b[0m\u001b[1;33m\u001b[0m\u001b[1;33m\u001b[0m\u001b[0m\n\u001b[0m\u001b[0;32m    191\u001b[0m                 warnings.warn(\n\u001b[0;32m    192\u001b[0m                     \u001b[1;34m\"write message already ends with \"\u001b[0m \u001b[1;34m\"termination characters\"\u001b[0m\u001b[1;33m,\u001b[0m\u001b[1;33m\u001b[0m\u001b[1;33m\u001b[0m\u001b[0m\n",
      "\u001b[1;31mTypeError\u001b[0m: endswith first arg must be bytes or a tuple of bytes, not str"
     ]
    }
   ],
   "source": [
    "import time\n",
    "import binascii \n",
    "cmd=chr(0x2)+chr(0x80)+chr(0x32)+chr(0x30)+chr(0x32)+chr(0x30)+chr(0x03)+chr(0x38)+chr(0x33)\n",
    "cmd.encode()\n",
    "cmdstr=binascii.hexlify(cmdstr)\n",
    "agilent.write(cmdstr)\n",
    "time.sleep(0.5)\n",
    "# agilent.read_raw()"
   ]
  },
  {
   "cell_type": "code",
   "execution_count": null,
   "metadata": {},
   "outputs": [],
   "source": [
    "agilent.read_ascii_values(2)"
   ]
  },
  {
   "cell_type": "code",
   "execution_count": 1,
   "metadata": {},
   "outputs": [
    {
     "ename": "NameError",
     "evalue": "name 'agilent' is not defined",
     "output_type": "error",
     "traceback": [
      "\u001b[1;31m---------------------------------------------------------------------------\u001b[0m",
      "\u001b[1;31mNameError\u001b[0m                                 Traceback (most recent call last)",
      "\u001b[1;32m~\\AppData\\Local\\Temp/ipykernel_15524/659015361.py\u001b[0m in \u001b[0;36m<module>\u001b[1;34m\u001b[0m\n\u001b[1;32m----> 1\u001b[1;33m \u001b[0magilent\u001b[0m\u001b[1;33m.\u001b[0m\u001b[0mclose\u001b[0m\u001b[1;33m(\u001b[0m\u001b[1;33m)\u001b[0m\u001b[1;33m\u001b[0m\u001b[1;33m\u001b[0m\u001b[0m\n\u001b[0m",
      "\u001b[1;31mNameError\u001b[0m: name 'agilent' is not defined"
     ]
    }
   ],
   "source": [
    "agilent.close()"
   ]
  },
  {
   "cell_type": "code",
   "execution_count": 17,
   "metadata": {},
   "outputs": [
    {
     "data": {
      "text/plain": [
       "'02c28032303230033833'"
      ]
     },
     "execution_count": 17,
     "metadata": {},
     "output_type": "execute_result"
    }
   ],
   "source": [
    "cmdstr"
   ]
  },
  {
   "cell_type": "code",
   "execution_count": null,
   "metadata": {},
   "outputs": [],
   "source": [
    "\n",
    "#!/usr/bin/python\n",
    "\n",
    "import signal\n",
    "import shutil\n",
    "import serial\n",
    "import os\n",
    "import sys\n",
    "import time\n",
    "from datetime import datetime,timedelta\n",
    "\n",
    "import codecs\n",
    "def press_cmd(ser0, cmd):\n",
    "\n",
    "    ser0.write(b'%s\\r' % cmd)\n",
    "    \n",
    "    time.sleep(1)\n",
    "\n",
    "    reply = ''\n",
    "\n",
    "    while ser0.inWaiting() > 0:\n",
    "        rtd=ser0.read(1)\n",
    "        reply+=rtd\n",
    "        if rtd == '\\n':\n",
    "           break\n",
    "    \n",
    "    return(reply)"
   ]
  },
  {
   "cell_type": "code",
   "execution_count": null,
   "metadata": {},
   "outputs": [],
   "source": []
  },
  {
   "cell_type": "code",
   "execution_count": null,
   "metadata": {},
   "outputs": [],
   "source": [
    "# open the serial device\n",
    "ser0  = serial.Serial(port='COM10',\n",
    "                        baudrate=9600,\n",
    "                        parity=serial.PARITY_NONE,\n",
    "                        stopbits=serial.STOPBITS_ONE,\n",
    "                        bytesize=serial.EIGHTBITS)\n",
    "ser0.timeout = 1.5\n",
    "ser0.xonxoff = False\n",
    "ser0.rtscts = False\n",
    "ser0.dsrdtr = False\n",
    "\n",
    "#     #print 'Querying the pump pressure...\\n'\n",
    "#     result = int('80',16)^int('32',16)^int('32',16)^int('34',16)^int('30',16)^int('03',16)\n",
    "#     cksum = '{:x}'.format(result)\n",
    "#     cmd = chr(0x2)+chr(0x80)+\"224\"+\"0\"+chr(0x3)+cksum\n",
    "#     #print 'The command sent was ' + cmd\n",
    "#     output = press_cmd(ser0, cmd)\n",
    "# finally: \n",
    "#     ser0.close()"
   ]
  },
  {
   "cell_type": "code",
   "execution_count": null,
   "metadata": {},
   "outputs": [],
   "source": [
    "turbo_port='COM10'\n",
    "def connect_turbo(port):\n",
    "    \"\"\"Start Serial connection with Turbo at port=port\"\"\"\n",
    "    try: \n",
    "        ser0  = serial.Serial(port=port,\n",
    "                                baudrate=9600,\n",
    "                                parity=serial.PARITY_NONE,\n",
    "                                stopbits=serial.STOPBITS_ONE,\n",
    "                                bytesize=serial.EIGHTBITS)\n",
    "        ser0.timeout = 1.5\n",
    "        ser0.xonxoff = False\n",
    "        ser0.rtscts = False\n",
    "        ser0.dsrdtr = False\n",
    "        msg=\"Turbo connected\\n\"\n",
    "        # print(msg)\n",
    "        return ser0\n",
    "    except: \n",
    "        msg=\"Error Connection not estabilished\"\n",
    "        return msg\n",
    "    finally:\n",
    "        msg=msg+\"Close the connection before exiting program\"\n",
    "        print(msg)\n",
    "        #ser0.close()\n",
    "        \n",
    "\n",
    "\n"
   ]
  },
  {
   "cell_type": "code",
   "execution_count": 20,
   "metadata": {},
   "outputs": [
    {
     "name": "stdout",
     "output_type": "stream",
     "text": [
      "135\n"
     ]
    }
   ],
   "source": [
    "result = int('80',16)^int('32',16)^int('32',16)^int('34',16)^int('30',16)^int('03',16)\n",
    "print(result)"
   ]
  },
  {
   "cell_type": "code",
   "execution_count": null,
   "metadata": {},
   "outputs": [],
   "source": [
    "ser0=connect_turbo(turbo_port)\n"
   ]
  },
  {
   "cell_type": "code",
   "execution_count": 13,
   "metadata": {},
   "outputs": [],
   "source": [
    "#print 'Querying the pump pressure...\\n'\n",
    "cksum = int('80',16)^int('32',16)^int('32',16)^int('34',16)^int('30',16)^int('03',16)\n",
    "\n",
    "cksum = '{:x}'.format(result)\n",
    "cmd= cmd.encode('utf-8')\n",
    "#print 'The command sent was ' + cmd"
   ]
  },
  {
   "cell_type": "code",
   "execution_count": 15,
   "metadata": {},
   "outputs": [
    {
     "data": {
      "text/plain": [
       "(b'\\x02\\xc2\\x8022240\\x0387', '87')"
      ]
     },
     "execution_count": 15,
     "metadata": {},
     "output_type": "execute_result"
    }
   ],
   "source": [
    "cmd,cksum"
   ]
  },
  {
   "cell_type": "code",
   "execution_count": null,
   "metadata": {},
   "outputs": [],
   "source": [
    "ser0.write(cmd)"
   ]
  },
  {
   "cell_type": "code",
   "execution_count": null,
   "metadata": {},
   "outputs": [],
   "source": [
    "result = int('80',16)^int('32',16)^int('32',16)^int('34',16)^int('30',16)^int('03',16)\n",
    "cksum = '{:x}'.format(result)\n",
    "cmd = chr(0x02)+chr(0x80)+\"224\"+\"0\"+chr(0x03)+cksum\n",
    "cmd=bytes(f'{cmd}\\r','utf=8')\n",
    "ser0.write(cmd)\n",
    "time.sleep(1)\n",
    "out=ser0.readlines()"
   ]
  },
  {
   "cell_type": "code",
   "execution_count": null,
   "metadata": {},
   "outputs": [],
   "source": [
    "result=int('80',16)^int('30',16)^int('30',16)^int('30',16)^int('31',16)^int('31',16)^int('3',16)"
   ]
  },
  {
   "cell_type": "code",
   "execution_count": null,
   "metadata": {},
   "outputs": [],
   "source": [
    "hex(result)"
   ]
  },
  {
   "cell_type": "code",
   "execution_count": null,
   "metadata": {},
   "outputs": [],
   "source": [
    "ser0.write(bytes(cmd))\n",
    "time.sleep(1)\n",
    "out=ser0.readlines()\n",
    "print(out)"
   ]
  },
  {
   "cell_type": "code",
   "execution_count": null,
   "metadata": {},
   "outputs": [],
   "source": [
    "bytes(8)"
   ]
  },
  {
   "cell_type": "code",
   "execution_count": null,
   "metadata": {},
   "outputs": [],
   "source": [
    "result = int('80',16)^int('06',16)^int('03',16)\n",
    "cksum = '{:x}'.format(result)\n",
    "print(hex(result))\n",
    "print(cksum)"
   ]
  },
  {
   "cell_type": "code",
   "execution_count": null,
   "metadata": {},
   "outputs": [],
   "source": [
    "hex(4)"
   ]
  },
  {
   "cell_type": "code",
   "execution_count": null,
   "metadata": {},
   "outputs": [],
   "source": [
    "# cksum=chr(0x80)^chr(0x02)^chr(0x02)^chr(0x04)^chr(0x30)^chr(0x03)\n",
    "cmd = chr(0x02)+chr(0x80)+\"224\"+chr(0x30)+chr(0x03)\n"
   ]
  },
  {
   "cell_type": "code",
   "execution_count": null,
   "metadata": {},
   "outputs": [],
   "source": []
  },
  {
   "cell_type": "code",
   "execution_count": null,
   "metadata": {},
   "outputs": [],
   "source": [
    "cmd"
   ]
  },
  {
   "cell_type": "code",
   "execution_count": null,
   "metadata": {},
   "outputs": [],
   "source": [
    "ser0.close()\n"
   ]
  },
  {
   "cell_type": "code",
   "execution_count": null,
   "metadata": {},
   "outputs": [],
   "source": [
    "test=ser0.write(cmd)\n",
    "\n",
    "# time.sleep(1)\n",
    "# out=ser0.readall()\n",
    "# out"
   ]
  },
  {
   "cell_type": "code",
   "execution_count": null,
   "metadata": {},
   "outputs": [],
   "source": [
    "codecs.decode((hex(32)),'hex')"
   ]
  },
  {
   "cell_type": "code",
   "execution_count": null,
   "metadata": {},
   "outputs": [],
   "source": [
    "codecs.decode(out[0],'hex')"
   ]
  },
  {
   "cell_type": "code",
   "execution_count": null,
   "metadata": {},
   "outputs": [],
   "source": [
    "out[0]"
   ]
  },
  {
   "cell_type": "code",
   "execution_count": null,
   "metadata": {},
   "outputs": [],
   "source": [
    "ser0.write(codecs.encode('E'+'BB'))\n",
    "ser0.read_all()"
   ]
  },
  {
   "cell_type": "code",
   "execution_count": null,
   "metadata": {},
   "outputs": [],
   "source": [
    "ser0.write(codecs.encode('E'+'BB'))"
   ]
  },
  {
   "cell_type": "code",
   "execution_count": null,
   "metadata": {},
   "outputs": [],
   "source": [
    "rm.close()"
   ]
  },
  {
   "cell_type": "code",
   "execution_count": null,
   "metadata": {},
   "outputs": [],
   "source": [
    "#!/usr/bin/python\n",
    "\n",
    "import signal\n",
    "import shutil\n",
    "import serial\n",
    "import os\n",
    "import sys\n",
    "import time\n",
    "from datetime import datetime,timedelta\n",
    "\n",
    "\n",
    "def press_cmd(ser0, cmd):\n",
    "\n",
    "    ser0.write('%s\\r' % cmd)\n",
    "    time.sleep(1)\n",
    "\n",
    "    reply = ''\n",
    "\n",
    "    while ser0.inWaiting() > 0:\n",
    "        rtd=ser0.read(1)\n",
    "        reply+=rtd\n",
    "        if rtd == '\\n':\n",
    "           break\n",
    "    \n",
    "    return(reply)\n",
    "\n",
    "# #---------------------------------------------------------------------------\n",
    "# # The main function starts here\n",
    "# #-----------------------------------------------------------------------------\n",
    "# if __name__ == \"__main__\":\n",
    "\n",
    "try:\n",
    "\n",
    "# open the serial device\n",
    "\n",
    "    ser0  = serial.Serial(port='COM10',\n",
    "                            baudrate=9600,\n",
    "                            parity=serial.PARITY_NONE,\n",
    "                            stopbits=serial.STOPBITS_ONE,\n",
    "                            bytesize=serial.EIGHTBITS)\n",
    "    ser0.timeout = 1.5\n",
    "    ser0.xonxoff = False\n",
    "    ser0.rtscts = False\n",
    "    ser0.dsrdtr = False\n",
    "\n",
    "\n",
    "    #print 'The command should have printed..\\n'\n",
    "except: \n",
    "    print(\"there was an error\")\n",
    "\n",
    "\n"
   ]
  },
  {
   "cell_type": "code",
   "execution_count": null,
   "metadata": {},
   "outputs": [],
   "source": [
    "ser0.close()\n"
   ]
  },
  {
   "cell_type": "code",
   "execution_count": null,
   "metadata": {},
   "outputs": [],
   "source": [
    "result"
   ]
  },
  {
   "cell_type": "code",
   "execution_count": null,
   "metadata": {},
   "outputs": [],
   "source": [
    "cksum"
   ]
  },
  {
   "cell_type": "code",
   "execution_count": 20,
   "metadata": {},
   "outputs": [
    {
     "name": "stdout",
     "output_type": "stream",
     "text": [
      "error\n"
     ]
    }
   ],
   "source": [
    "\n",
    "from unittest import expectedFailure\n",
    "\n",
    "\n",
    "try:\n",
    "\n",
    "# open the serial device\n",
    "\n",
    "    ser0  = serial.Serial(port='COM10',\n",
    "                            baudrate=9600,\n",
    "                            parity=serial.PARITY_NONE,\n",
    "                            stopbits=serial.STOPBITS_ONE,\n",
    "                            bytesize=serial.EIGHTBITS)\n",
    "    ser0.timeout = 1.5\n",
    "    ser0.xonxoff = False\n",
    "    ser0.rtscts = False\n",
    "    ser0.dsrdtr = False\n",
    "except: \n",
    "    print(\"error\")"
   ]
  },
  {
   "cell_type": "code",
   "execution_count": null,
   "metadata": {},
   "outputs": [],
   "source": [
    "ser0.close()"
   ]
  },
  {
   "cell_type": "code",
   "execution_count": null,
   "metadata": {},
   "outputs": [],
   "source": [
    "try:\n",
    "\n",
    "# open the serial device\n",
    "\n",
    "\tser0  = serial.Serial(port='COM10',\n",
    "\t\t\t\t\t\t\tbaudrate=9600,\n",
    "\t\t\t\t\t\t\tparity=serial.PARITY_NONE,\n",
    "\t\t\t\t\t\t\tstopbits=serial.STOPBITS_ONE,\n",
    "\t\t\t\t\t\t\tbytesize=serial.EIGHTBITS)\n",
    "\tser0.timeout = 1.5\n",
    "\tser0.xonxoff = False\n",
    "\tser0.rtscts = False\n",
    "\tser0.dsrdtr = False\n",
    "\n",
    "\t#print 'Querying the pump pressure...\\n'\n",
    "\tresult = int('80',16)^int('32',16)^int('32',16)^int('34',16)^int('30',16)^int('03',16)\n",
    "\tcksum = '{:x}'.format(result)\n",
    "\tcmd = chr(0x2)+chr(0x80)+\"224\"+\"0\"+chr(0x3)+cksum\n",
    "\tprint('The command sent was ' + cmd)\n",
    "\toutput = press_cmd(ser0, cmd)\n",
    "\tif not output == '':\n",
    "\t\tpress = output[5:-5]\n",
    "\t\tprint(press)\n",
    "\t#print 'The command should have printed..\\n'\n",
    "\n",
    "\ttime  = datetime.now().strftime(\"%D %T\")\n",
    "\tdat   = [time, \",\", press, \"\\n\"]     # put data in list\n",
    "\n",
    "\t# htmsrc= \"/home/fireball2/Code/index-fireball.html\"\n",
    "\t# dysrc = \"/home/fireball2/Code/dygraph-combined.js\"\n",
    "\t# dylink= \"/home/fireball2/data/\"+datetime.now().strftime(\"%y%m%d\") + \"/dygraph-combined.js\"\n",
    "\t# html  = \"/home/fireball2/data/\"+datetime.now().strftime(\"%y%m%d\") + \"/index-fireball.html\"\n",
    "\n",
    "\t# fn    = \"/home/fireball2/data/\" + datetime.now().strftime(\"%y%m%d\") + \"/pressure.csv\"\n",
    "\t# dir   = os.path.dirname(fn)\n",
    "\n",
    "\t# if not os.path.exists(dir):\n",
    "\t#     os.makedirs(dir)\n",
    "\n",
    "\t# if not os.path.exists(html):# copy index.html?\n",
    "\t#     shutil.copyfile(htmsrc, html)\n",
    "\n",
    "\t# if not os.path.exists(dylink):# create symlink to dygraph?\n",
    "\t#     os.symlink(dysrc, dylink)\n",
    "\n",
    "\t# if not os.path.exists(fn): # write a header?\n",
    "\t#         writeheader = True\n",
    "\t# else:\n",
    "\t#         writeheader = False\n",
    "\n",
    "\t# fp = open(fn, 'a') # open file for append/write\n",
    "\n",
    "\t# if writeheader:\n",
    "\t#     fp.write('time,pressure[mbar]\\n')# header\n",
    "\t# fp.write('{0}, {1}\\n'.format(time, press))\n",
    "\t# fp.close()\n",
    "\n",
    "\n",
    "\n",
    "finally:\n",
    "    ser0.close()\n"
   ]
  }
 ],
 "metadata": {
  "kernelspec": {
   "display_name": "Python 3.8.3 ('base')",
   "language": "python",
   "name": "python3"
  },
  "language_info": {
   "codemirror_mode": {
    "name": "ipython",
    "version": 3
   },
   "file_extension": ".py",
   "mimetype": "text/x-python",
   "name": "python",
   "nbconvert_exporter": "python",
   "pygments_lexer": "ipython3",
   "version": "3.8.3"
  },
  "orig_nbformat": 4,
  "vscode": {
   "interpreter": {
    "hash": "21deaa066a5cca7544829d844c0b129615789037dcce8757ed04dc6f8044a133"
   }
  }
 },
 "nbformat": 4,
 "nbformat_minor": 2
}
