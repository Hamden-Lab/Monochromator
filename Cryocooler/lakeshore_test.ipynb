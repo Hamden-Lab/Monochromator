{
 "cells": [
  {
   "cell_type": "code",
   "execution_count": 1,
   "metadata": {},
   "outputs": [],
   "source": [
    "from lakeshore import Model350\n",
    "from time import sleep\n",
    "import datetime \n",
    "from IPython.display import clear_output\n",
    "import numpy as np\n",
    "import matplotlib.pyplot as plt\n",
    "import plotly.express as px\n",
    "import plotly.graph_objects as go\n",
    "import pandas as pd\n",
    "import time\n",
    "import plotly\n",
    "%matplotlib inline\n",
    "\n",
    "\"\"\"Adding Asthetics to the plot\"\"\"\n",
    "plt.rc('font', size=15)          # controls default text sizes\n",
    "plt.rc('axes', titlesize=20)     # fontsize of the axes title\n",
    "plt.rc('axes', labelsize=15)     # fontsize of the x and y labels\n",
    "plt.rc('xtick', labelsize=15)    # fontsize of the tick labels\n",
    "plt.rc('ytick', labelsize=15)    # fontsize of the tick labels\n",
    "plt.rc('legend', fontsize=15)    # legend fontsize\n",
    "%config InlineBackend.figure_format = 'png'\n",
    "plt.rcParams['figure.figsize'] = [24, 12]  # set plotsize\n"
   ]
  },
  {
   "cell_type": "code",
   "execution_count": 2,
   "metadata": {},
   "outputs": [],
   "source": [
    "def lakeshore_initialize():\n",
    "    try: \n",
    "        myinstrument =Model350()\n",
    "        print(\"connection successful\")\n",
    "        return(myinstrument)\n",
    "    except: \n",
    "        print(\"Device not found\")\n",
    "    \n",
    "def get_temp_data():\n",
    "    data = {\n",
    "        'tempA_log': [],\n",
    "        'tempB_log': [],\n",
    "        'tempC_log': [],\n",
    "        'tempD_log': [],\n",
    "        'time':[]}\n",
    "        \n",
    "    data['tempA_log'].append(np.float32(myinstrument.query('KRDG? A')))\n",
    "    time.sleep(0.1)\n",
    "    data['tempB_log'].append(np.float32(myinstrument.query('KRDG? B')))\n",
    "    time.sleep(0.1)\n",
    "    data['tempC_log'].append(np.float32(myinstrument.query('KRDG? C')))\n",
    "    time.sleep(0.1)\n",
    "    data['tempD_log'].append(np.float32(myinstrument.query('KRDG? D')))\n",
    "    data['time'].append(datetime.datetime.now())\n",
    "    return data\n",
    "def log_temp_data_step_duration(step,duration):\n",
    "    \n",
    "    start_time=datetime.datetime.now()\n",
    "    log_duration = float(duration) #seconds\n",
    "    log_step=float(step) #seconds \n",
    "    df = pd.DataFrame(get_temp_data())\n",
    "    while datetime.datetime.now()-start_time<datetime.timedelta(seconds=log_duration):\n",
    "        # print(\"its true\")\n",
    "        df2=pd.DataFrame(get_temp_data())\n",
    "        df=df.append(df2,ignore_index = True)\n",
    "        sleep(log_step)\n",
    "    return df\n",
    "def log_temp_data_step_duration(step,duration):\n",
    "    \n",
    "    start_time=datetime.datetime.now()\n",
    "    log_duration = float(duration) #seconds\n",
    "    log_step=float(step) #seconds \n",
    "    df = pd.DataFrame(get_temp_data())\n",
    "    while datetime.datetime.now()-start_time<datetime.timedelta(seconds=log_duration):\n",
    "        # print(\"its true\")\n",
    "        df2=pd.DataFrame(get_temp_data())\n",
    "        df=df.append(df2,ignore_index = True)\n",
    "        sleep(log_step)\n",
    "    return df"
   ]
  },
  {
   "cell_type": "code",
   "execution_count": 3,
   "metadata": {},
   "outputs": [
    {
     "name": "stdout",
     "output_type": "stream",
     "text": [
      "connection successful\n"
     ]
    }
   ],
   "source": [
    "myinstrument=lakeshore_initialize()"
   ]
  },
  {
   "cell_type": "code",
   "execution_count": null,
   "metadata": {},
   "outputs": [],
   "source": [
    "try: \n",
    "    myinstrument =Model350()\n",
    "    print(\"connection successful\")\n",
    "except: \n",
    "    print(\"Device not found\")"
   ]
  },
  {
   "cell_type": "code",
   "execution_count": null,
   "metadata": {},
   "outputs": [],
   "source": [
    "from IPython.display import clear_output\n",
    "\n",
    "import pandas as pd\n",
    "import time \n",
    "start_time=datetime.datetime.now()\n",
    "log_duration = 12*60*60 #seconds\n",
    "log_step=1 #seconds \n",
    "df = pd.DataFrame(get_temp_data())\n",
    "while datetime.datetime.now()-start_time<datetime.timedelta(seconds=log_duration):\n",
    "    # print(\"its true\")\n",
    "    df2=pd.DataFrame(get_temp_data())\n",
    "    df=df.append(df2,ignore_index = True)\n",
    "    display(df[-5:])\n",
    "    df.to_csv(\"Temperature log 06212022.csv\")\n",
    "    sleep(20)\n",
    "    clear_output(wait=True)\n",
    "    "
   ]
  },
  {
   "cell_type": "code",
   "execution_count": 4,
   "metadata": {},
   "outputs": [],
   "source": [
    "myinstrument.disconnect_usb()"
   ]
  }
 ],
 "metadata": {
  "interpreter": {
   "hash": "21deaa066a5cca7544829d844c0b129615789037dcce8757ed04dc6f8044a133"
  },
  "kernelspec": {
   "display_name": "Python 3.8.3 ('base')",
   "language": "python",
   "name": "python3"
  },
  "language_info": {
   "codemirror_mode": {
    "name": "ipython",
    "version": 3
   },
   "file_extension": ".py",
   "mimetype": "text/x-python",
   "name": "python",
   "nbconvert_exporter": "python",
   "pygments_lexer": "ipython3",
   "version": "3.8.3"
  },
  "orig_nbformat": 4
 },
 "nbformat": 4,
 "nbformat_minor": 2
}
