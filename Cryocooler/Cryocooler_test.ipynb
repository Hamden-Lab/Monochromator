{
 "cells": [
  {
   "cell_type": "code",
   "execution_count": 1,
   "metadata": {},
   "outputs": [],
   "source": [
    "#importing packages \n",
    "import signal\n",
    "import codecs\n",
    "import serial\n",
    "import os\n",
    "import sys\n",
    "import time\n",
    "from time import sleep\n",
    "# import Cryocode\n",
    "import serial\n",
    "from serial import SerialException\n",
    "\n",
    "import serial.tools.list_ports\n",
    "from datetime import datetime,timedelta\n",
    "import glob\n",
    "import numpy as np\n",
    "import pandas as pd\n",
    "%matplotlib inline\n",
    "\n",
    "from lakeshore import Model350\n",
    "from time import sleep\n",
    "from IPython.display import clear_output\n",
    "import numpy as np\n",
    "import plotly.express as px\n",
    "import plotly.graph_objects as go\n",
    "import pandas as pd\n",
    "import time\n",
    "import plotly\n",
    "%matplotlib inline\n",
    "\n",
    "# \"\"\"Adding Asthetics to the plot\"\"\"\n",
    "# plt.rc('font', size=15)          # controls default text sizes\n",
    "# plt.rc('axes', titlesize=20)     # fontsize of the axes title\n",
    "# plt.rc('axes', labelsize=15)     # fontsize of the x and y labels\n",
    "# plt.rc('xtick', labelsize=15)    # fontsize of the tick labels\n",
    "# plt.rc('ytick', labelsize=15)    # fontsize of the tick labels\n",
    "# plt.rc('legend', fontsize=15)    # legend fontsize\n",
    "# %config InlineBackend.figure_format = 'png'\n",
    "# plt.rcParams['figure.figsize'] = [24, 12]  # set plotsize\n",
    "\n",
    "\n"
   ]
  },
  {
   "cell_type": "code",
   "execution_count": 2,
   "metadata": {},
   "outputs": [],
   "source": [
    "def lakeshore_initialize():\n",
    "    try: \n",
    "        myinstrument =Model350()\n",
    "        print(\"connection successful\")\n",
    "        return(myinstrument)\n",
    "    except: \n",
    "        print(\"Device not found\")\n",
    "        \n",
    "\n",
    "def get_temp_data():\n",
    "    import datetime\n",
    "    data = {\n",
    "        'tempA_log': [],\n",
    "        'tempB_log': [],\n",
    "        'tempC_log': [],\n",
    "        'tempD_log': [],\n",
    "        'time':[]\n",
    "        }\n",
    "        \n",
    "    # data['tempA_log'].append(np.float32(myinstrument.query('KRDG? A')))\n",
    "    time.sleep(0.1)\n",
    "    data['tempA_log'].append(np.float32(myinstrument.query('KRDG? A')))\n",
    "    time.sleep(0.1)\n",
    "    data['tempB_log'].append(np.float32(myinstrument.query('KRDG? B')))\n",
    "    time.sleep(0.1)\n",
    "    data['tempC_log'].append(np.float32(myinstrument.query('KRDG? C')))\n",
    "    time.sleep(0.1)\n",
    "    data['tempD_log'].append(np.float32(myinstrument.query('KRDG? D')))\n",
    "    data['time'].append(datetime.datetime.now())\n",
    "    return data\n",
    "def log_temp_data_step_duration(step,duration):\n",
    "    import datetime\n",
    "    start_time=datetime.datetime.now()\n",
    "    log_duration = float(duration) #seconds\n",
    "    log_step=float(step) #seconds \n",
    "    df = pd.DataFrame(get_temp_data())\n",
    "    while datetime.datetime.now()-start_time<datetime.timedelta(seconds=log_duration):\n",
    "        # print(\"its true\")\n",
    "        df2=pd.DataFrame(get_temp_data())\n",
    "        df=df.append(df2,ignore_index = True)\n",
    "        sleep(log_step)\n",
    "    return df\n",
    "def log_temp_data_step_duration(step,duration):\n",
    "    import datetime\n",
    "    start_time=datetime.datetime.now()\n",
    "    log_duration = float(duration) #seconds\n",
    "    log_step=float(step) #seconds \n",
    "    df = pd.DataFrame(get_temp_data())\n",
    "    while datetime.datetime.now()-start_time<datetime.timedelta(seconds=log_duration):\n",
    "        # print(\"its true\")\n",
    "        df2=pd.DataFrame(get_temp_data())\n",
    "        df=df.append(df2,ignore_index = True)\n",
    "        sleep(log_step)\n",
    "    return df"
   ]
  },
  {
   "cell_type": "code",
   "execution_count": 13,
   "metadata": {},
   "outputs": [],
   "source": [
    "def start_connection(cryo_port):\n",
    "    \"\"\"Start Serial connection with Cryocooler at port=port\"\"\"\n",
    "    def open_port(cryo_port): \n",
    "        try:\n",
    "            \n",
    "            ser0 = serial.Serial(port=cryo_port,\n",
    "                                baudrate=4800, #9600bits/s number of data bits\n",
    "                                parity=serial.PARITY_NONE, #parity checks if the bit sent is odd or even\n",
    "                                stopbits=serial.STOPBITS_ONE, #signal is high or low\n",
    "                                bytesize=serial.EIGHTBITS,\n",
    "                                timeout=1)\n",
    "        except SerialException:\n",
    "            return None\n",
    "        else: \n",
    "            return ser0  \n",
    "    ser0=open_port(cryo_port)\n",
    "    while ser0 == None: \n",
    "        print(\"Serial port busy. Waiting to connect\")\n",
    "        time.sleep(2)\n",
    "        ser0=open_port(cryo_port)\n",
    "    else: \n",
    "        print(\"Connected\")\n",
    "        return(ser0)\n",
    "\n",
    "# def start_connection(port):\n",
    "#     \"\"\"Start Serial connection with Cryocooler at port=port\"\"\"\n",
    "    \n",
    "#     try: \n",
    "#         ser0  = serial.Serial(port=port, #common port for Windows systems,\n",
    "#                             baudrate=4800, #9600bits/s number of data bits\n",
    "#                             parity=serial.PARITY_NONE, #parity checks if the bit sent is odd or even\n",
    "#                             stopbits=serial.STOPBITS_ONE, #signal is high or low\n",
    "#                             bytesize=serial.EIGHTBITS,\n",
    "#                             timeout=1) #size of bit sent(can be 5,6,7,8,9)\n",
    "#         msg=\"Cryocooler connected\\n\"\n",
    "#         # print(msg)\n",
    "#         return ser0\n",
    "#     except: \n",
    "#         msg=\"Error Connection not estabilished\"\n",
    "#         return msg\n",
    "#     finally:\n",
    "#         msg=msg+\"Close the connection before exiting program\"\n",
    "#         print(msg)\n",
    "#         #ser0.close()\n",
    "        \n",
    "\n",
    "def stop_connection(ser): \n",
    "    try: \n",
    "       ser.close()\n",
    "       print(\"Connection stopped\")\n",
    "    except: \n",
    "       print(\"Something went wrong\")\n",
    "    return \n",
    "\n",
    "def get_temperature(ser0):\n",
    "    import datetime\n",
    "    \"\"\"Cold Tip Temperature: Display Cold-Tip Temperature\"\"\"\n",
    "    data = {\n",
    "    'cryo_temp': [],\n",
    "    'time':[]}\n",
    "    #while True: \n",
    "    ser0.write(b'TC\\r')\n",
    "    time.sleep(1)\n",
    "    out =ser0.readlines()\n",
    "    #print(out)\n",
    "    cmd = out[0].decode('utf-8').strip()\n",
    "    temperature = out[1].decode('utf-8').strip()\n",
    "    data['cryo_temp']=float(temperature)\n",
    "    data['time']=datetime.datetime.now()\n",
    "    return data\n",
    "\n",
    "def version(): \n",
    "    ser0.write(b'VERSION\\r')\n",
    "    time.sleep(1)\n",
    "    out =ser0.readlines();\n",
    "    #print(out)\n",
    "    #print(\"Command Sucessful\")\n",
    "    cmd = out[0].decode('utf-8').strip()\n",
    "    out = out[1].decode('utf-8').strip()\n",
    "    return cmd,str(out)\n",
    "\n",
    "def serial_number(): \n",
    "\n",
    "    ser0.write(b'SERIAL\\r')\n",
    "    time.sleep(1)\n",
    "    out =ser0.readlines()\n",
    "    #print(out)\n",
    "    #print(\"Command Sucessful\")\n",
    "    cmd = out[0].decode('utf-8').strip()\n",
    "    out = out[1].decode('utf-8').strip()\n",
    "    return cmd,out\n",
    "\n",
    "def get_mode(): \n",
    "    \"\"\"Display Configured Cryocooler Type\n",
    "        Soft-Stop Control Mode: Set Soft-Stop Control Mode: SET SSTOPM=<Value>\n",
    "        000.00 = Sunpower reserved mode\n",
    "        001.00 = CryoTel CT\n",
    "        002.00 = CryoTel GT\n",
    "        003.00 = CryoTel MT\n",
    "        \n",
    "        For Hamden lab this is always set to 3.00 and never changed as we have only the MT cryocooler\n",
    "    \"\"\"\n",
    "    \n",
    "    ser0.write(b'MODE\\r')\n",
    "    time.sleep(1)\n",
    "    out =ser0.readlines()\n",
    "    #print(out)\n",
    "    #print(\"Command Sucessful\")\n",
    "    cmd = out[0].decode('utf-8').strip()\n",
    "    out = out[1].decode('utf-8').strip()\n",
    "    return cmd, out\n",
    "\n",
    "def get_pid_mode(): \n",
    "    \"\"\"Display Current Control Mode: SET PID\n",
    "        Use the SET PID command to display the controller control mode that is currently in use.\n",
    "        A return of 000.00 indicates that power control mode is currently in use.\n",
    "        A return of 002.00 indicates that temperature control mode is currently in use.\n",
    "    \"\"\"\n",
    "    ser0.write(b'SET PID\\r')\n",
    "    time.sleep(1)\n",
    "    out =ser0.readlines()\n",
    "    #print(out)\n",
    "    #print(\"Command Sucessful\")\n",
    "    cmd = out[0].decode('utf-8').strip()\n",
    "    out = out[1].decode('utf-8').strip()\n",
    "    return cmd,out\n",
    "\n",
    "def set_pid_mode(value): \n",
    "    \"\"\"Display Current Control Mode: SET PID = <Value>\n",
    "        Use the SET PID=<Value> command to change the control mode that’s currently being used.\n",
    "        Entering a value of 0 changes the control mode currently in use to the power control mode. In this mode, the con-troller will supply power to the cryocooler at the target power level set by the user. (You can use the SET PWROUT=<Value> command to change the target power output setting.)\n",
    "        Entering a value of 2 changes the control mode currently in use to the temperature control mode. In this mode, the controller will try to maintain the cold tip at the target temperature setting. (You can use the SET TTARGET=<Value> command to change the target temperature setting.)\n",
    "        The control mode will revert to the default control mode upon cycling the power. (You can use the SAVE PID command to change the default control mode to the control mode that’s currently in use.)\n",
    "\n",
    "    \"\"\"\n",
    "    cmdstr= 'SET PID='+str(value)+'\\r'\n",
    "    cmd=bytes(cmdstr,'UTF-8')\n",
    "    ser0.write(cmd)\n",
    "    time.sleep(1)\n",
    "    out =ser0.readlines()\n",
    "    #print(out)\n",
    "    #print(\"Command Sucessful\")\n",
    "    cmd = out[0].decode('utf-8').strip()\n",
    "    out = out[1].decode('utf-8').strip()\n",
    "    return cmd,out\n",
    "\n",
    "def save_pid_mode(): \n",
    "    \"\"\"Change Default Control Mode: SAVE PID\n",
    "        Use the SAVE PID command to save the control mode that is currently in use as the new default control mode. The factory-set default control mode is temperature control mode. (You can use the SET PID command to dis-play the control mode that is currently in use, and you can use the SET PID=<Value> command to specify which control mode to use.) The control mode that you save with this command will be the control mode used after the system is power cycled.\n",
    "        A return of 000.00 indicates that power control mode has been saved as the default control mode. A return of 002.00 indicates that temperature control mode has been saved as the default control mode.\n",
    "    \"\"\"\n",
    "    ser0.write(b'SAVE PID')\n",
    "    time.sleep(1)\n",
    "    out =ser0.readlines()\n",
    "    #print(out)\n",
    "    #print(\"Command Sucessful\")\n",
    "    cmd = out[0].decode('utf-8').strip()\n",
    "    out = out[1].decode('utf-8').strip()\n",
    "    return cmd,out\n",
    "\n",
    "def factory_reset():\n",
    "    \"\"\"Controller Parameters: Reset Controller Parameters to Factory Defaults\n",
    "    Use the RESET=F command to reset the controller parameters to their factory defaults as listed in table B-3 of the manual.\n",
    "    \"\"\"\n",
    "    ser0.write(b'RESET=F\\r')\n",
    "    time.sleep(1)\n",
    "    out =ser0.readlines()\n",
    "    cmd = out[0].decode('utf-8').strip()\n",
    "    out = out[1].decode('utf-8').strip()\n",
    "    return cmd,out\n",
    "\n",
    "def get_cooler_power():\n",
    "    \"\"\"Display Cooler Power as Measured by Controller: P\n",
    "    Cooler power as measured by the controller is how much electrical power in watts the cryocooler is using as measured by the controller. (This is not necessarily the same as the power level that the controller is command-ing as displayed by the E command.)\n",
    "    \n",
    "    \"\"\"\n",
    "    ser0.write(b'P\\r')\n",
    "    time.sleep(1)\n",
    "    out =ser0.readlines()\n",
    "    #print(out)\n",
    "    #print(\"Command Sucessful\")\n",
    "    cmd = out[0].decode('utf-8').strip()\n",
    "    out = out[1].decode('utf-8').strip()\n",
    "    return cmd,out\n",
    "\n",
    "\n",
    "def get_commdanded_power_limits():\n",
    "    \"\"\"Display Current Commanded Power & Power Limits: E\n",
    "        The current commanded power is current power output that the controller is commanding to be supplied to the cryocooler. The current power limits are the minimum and maximum controller power output levels that the con-troller calculates to be the appropriate limits based on the current conditions in the system.\n",
    "        \n",
    "        Use the E command to display the current commanded power and the power limits.\n",
    "        The first line of the values returned by this command is the maximum allowable power output to the cryocooler for the current cold tip temperature. This number will be either the maximum safe power output, or the user-de-fined maximum power output, whichever is lower. (The maximum safe power output to the cryocooler is a func-tion of the cold tip temperature and increases as the cold tip temperature decreases [see figure 2-6]. The maximum safe power output at 77 K is 165 W.)\n",
    "        The second line of the values returned by this command is the minimum allowable power output to the cry-ocooler. This number will be either the minimum safe power output, or the user-defined minimum power output, whichever is higher. (The minimum safe power output to the cryocooler is a function of the cold tip temperature, but is steady at 60 W over most of the operating range [see figure 2-6]. The minimum safe power output at 77 K is 60 W.)\n",
    "        The third line of the values returned by this command is the current commanded power (not necessarily the target power output set for power control mode or the power the cryocooler is using as displayed by the P command). All values are in watts.\n",
    "    \"\"\"\n",
    "    \n",
    "    ser0.write(b'E\\r')\n",
    "    time.sleep(1)\n",
    "    out =ser0.readlines()\n",
    "    #print(out)\n",
    "    #print(\"Command Sucessful\")\n",
    "    cmd = out[0].decode('utf-8').strip()\n",
    "    out = out[1].decode('utf-8').strip()\n",
    "    return cmd,out\n",
    "\n",
    "def error_code():\n",
    "    \"\"\"Display Current Commanded Power & Power Limits: ERROR)\n",
    "    An error code is a six-digit binary number that identifies which, if any, errors are occurring. The position of the 1 within the error code determines what error is being reported (table B-4 in the manual or below). Multiple errors are indicated by multiple 1s in the error code, each 1 representing a different error. An error code consisting of six zeros means there are no errors.\n",
    "    -----------\n",
    "    Error Codes: \n",
    "        000001- Over Current\n",
    "        000010- Jumper Error\n",
    "        000100- Serial Communication Error\n",
    "        001000- Non-Volatile Memory Error\n",
    "        010000- Watchdog Error\n",
    "        100000- Temperature Sensor Error\n",
    "    \"\"\"\n",
    "    ser0.write(b'ERROR\\r')\n",
    "    time.sleep(1)\n",
    "    out =ser0.readlines()\n",
    "    cmd = out[0].decode('utf-8').strip()\n",
    "    out = out[1].decode('utf-8').strip()\n",
    "    return cmd,out\n",
    "    \n",
    "\n",
    "def set_integralconstant(value):\n",
    "    \"\"\" Set Integral Constant of Temperature Control Loop: SET KI=<Value>\n",
    "    In some applications, advanced users experienced in tuning PID control loops may want to modify the PI constants to tune the temperature control loop to better match the dynamics of their individual system. The default integral constant for the MT cryocooler is 1.0.\n",
    "    \n",
    "    \"\"\"\n",
    "    cmdstr= 'SET KI='+str(value)+'\\r'\n",
    "    cmd_b =cmdstr.encode('utf-8')\n",
    "    ser0.write(cmd_b)\n",
    "    time.sleep(1)\n",
    "    out =ser0.readlines()\n",
    "    #print(out)\n",
    "    cmd = out[0].decode('utf-8').strip()\n",
    "    out = out[1].decode('utf-8').strip()\n",
    "    return cmd,out\n",
    "\n",
    "def get_integralconstant():\n",
    "    \"\"\"Display Integral Constant of Temperature Control Loop: SET KI\"\"\" \n",
    "    ser0.write(b'SET KI\\r')\n",
    "    time.sleep(1)\n",
    "    out =ser0.readlines()\n",
    "    #print(out)\n",
    "    #print(\"Command Sucessful\")\n",
    "    return out\n",
    "\n",
    "def state():\n",
    "    \"\"\"Display Operating State:STATE\n",
    "        Use the STATE command to display a list of the controller’s operating parameters (as described in table A-5) and their current values. All of the individual parameter values can also be displayed using the corresponding individ-ual parameter display commands listed elsewhere in this appendix. This command is useful when troubleshooting the system.\n",
    "            \n",
    "        The operating state of the controller is defined as the current value of the controller's operating parameters which are listed and described in table A-5. The factory default values for these parameters (except TSTAT) are listed in table A-3.\n",
    "        \n",
    "         Cryocooler Model Designation\n",
    "            TSTATM          Thermostat Mode\n",
    "            TSTAT           Thermostat State\n",
    "            SSTOPM          Soft-Stop Control Mode\n",
    "            SSTOP           Soft-Stop State\n",
    "            PID             Control Mode Currently in Use\n",
    "            LOCK            User Lock State\n",
    "            MAX             User-Defined Maximum Power Output\n",
    "            MIN             User-Defined Minimum Power Output\n",
    "            PWOUT           Target Power Output\n",
    "            TTARGET         Target Temperature\n",
    "            TBAND           Temperature Band\n",
    "            TEMP KP         Proportional Constant of Temperature Control Loop\n",
    "            TEMP KI         Integral Constant of Temperature Control Loop\n",
    "    \"\"\"\n",
    "    ser0.write(b'STATE\\r')\n",
    "    time.sleep(1)\n",
    "    out =ser0.readlines()\n",
    "    #print(out)\n",
    "    #print(\"Command Sucessful\")\n",
    "    return out\n",
    "\n",
    "def set_proportionalconstant(value):\n",
    "    \"\"\"Set Integral Constant of Temperature Control Loop: SET KI=<Value>\n",
    "        Use the SET KP=<Value> command to set the proportional constant of the temperature control loop.\n",
    "    \"\"\"\n",
    "    cmdstr= 'SET KP='+str(value)+'\\r'\n",
    "    cmd_b= cmdstr.encode(cmdstr)\n",
    "    ser0.write(cmd_b)\n",
    "    time.sleep(1)\n",
    "    out =ser0.readlines()\n",
    "    #print(out)\n",
    "    #print(\"Command Sucessful\")\n",
    "    return out\n",
    "\n",
    "def get_proportionalconstant():\n",
    "    \"\"\"Display Proportional Constant of Temperature Control Loop: SET KP\n",
    "        Use the SET KP=<Value> command to set the proportional constant of the temperature control loop.\n",
    "\n",
    "    \"\"\" \n",
    "    ser0.write(b'SET KP\\r')\n",
    "    time.sleep(1)\n",
    "    out =ser0.readlines()\n",
    "    #print(out)\n",
    "    #print(\"Command Sucessful\")\n",
    "    return out\n",
    "\n",
    "\n",
    "\"\"\"Soft-Stop Control Mode\n",
    "Set Soft-Stop Control Mode: SET SSTOPM=<Value>\n",
    "Display Soft-Stop Control Mode: SET SSTOPM\"\"\"\n",
    "\n",
    "def get_soft_stop_mode():\n",
    "    \"\"\"\n",
    "    Soft-Stop Control Mode\n",
    "    Soft-Stop Control Mode: Display Soft-Stop Control Mode: SET SSTOPM\n",
    "\n",
    "    The soft-stop control mode identifies the method that has been selected to enable and disable the soft-stop func-tion. There are two methods: one is to use the SET SSTOP=<Value> command; the other is to use Digital In-put 1 (pin 5 on the controller’s I/O connector). In the Digital Input 1 method, setting the input high enables the soft-stop function. The Onboard Isolated 5 V output on pin 10 or 12 on the controller’s I/O connector can be used to set the input high. Setting the input low or disconnecting it disables the soft-stop function.\n",
    "    \n",
    "    \"\"\"\n",
    "    ser0.write(b'SET SSTOPM\\r')\n",
    "    time.sleep(1)\n",
    "    out =ser0.readlines()\n",
    "    #print(out)\n",
    "    #print(\"Command Sucessful\")\n",
    "    return out\n",
    "\n",
    "def set_soft_stop_mode(value=3):\n",
    "    \"\"\"\n",
    "    Soft-Stop Control Mode\n",
    "    Set Soft-Stop Control Mode\" SET SSTOP=<Value>\n",
    "    \n",
    "    Description: \n",
    "    Use the SET SSTOP=<Value> command to begin a soft stop of the cryocooler, or to start the cryocooler from its stopped state. A soft stop is the recommended shutdown method in which the controller slowly ramps down operation of the cryocooler and parks the piston against the end stop before shutting it down completely. This re-duces vibration, allows the controller to remain on, and reduces the risk of self-excitation (when turning off the cryocooler at very low temperatures–below 77 K). This command will only work if the soft-stop control mode is set to mode 0. (If set to mode 1, then Digital Input 1 is used to control the soft-stop state.)\n",
    "    Usage: \n",
    "    Entering a value of 0 restarts a stopped cryocooler and disables the soft-stop function.\n",
    "    Entering a value of 1 begins a soft stop of the cryocooler and enables the soft-stop function. Do not remove power from the controller until the shutdown process has been completed and the word COMPLETE is displayed on the computer screen.\n",
    "    \n",
    "    \n",
    "    \n",
    "    \"\"\"\n",
    "    if value==3: \n",
    "        cmdstr= 'SET SSTOPM='+str(value)+'\\r'\n",
    "        cmd_b= cmdstr.encode(cmdstr)\n",
    "        ser0.write(cmd_b)\n",
    "        time.sleep(1)\n",
    "        out =ser0.readlines()\n",
    "    else: \n",
    "        print(\"Are you trying to set the controller to operate with MT? Then use mode 3. For details refer to the manual\")\n",
    "    #print(out)\n",
    "    #print(\"Command Sucessful\")\n",
    "    return out\n",
    "\n",
    "def get_soft_stop_state():\n",
    "    \"\"\"Soft-Stop Control Mode\n",
    "        Display Soft-Stop Control Mode: SET SSTOPM\n",
    "        \n",
    "        Use the SET SSTOP command to display the current soft-stop state, i.e., whether the soft-stop function is ena-bled or disabled.\n",
    "        A return of 000.00 indicates that the soft-stop function is disabled.\n",
    "        A return of 001.00 indicates that soft-stop function is enabled.\n",
    "    \"\"\"\n",
    "    ser0.write(b'SET SSTOP\\r')\n",
    "    time.sleep(1)\n",
    "    out =ser0.readlines()\n",
    "    #print(out)\n",
    "    #print(\"Command Sucessful\")\n",
    "    return out\n",
    "\n",
    "def set_soft_stop_state(value):\n",
    "    \"\"\"\n",
    "        The soft-stop state indicates whether the soft-stop function is enabled or disabled. With the soft-stop function ena-bled, the cryocooler is stopped, or is being ramped down, parked, and stopped, and will not start up when power is cycled to the controller. With the soft-stop function disabled, the cryocooler is in the process of starting up or is running, and will start up normally when power to the controller is cycled.\n",
    "        Description: \n",
    "        Use the GET SSTOP=<Value> command to begin a soft stop of the cryocooler, or to start the cryocooler from its stopped state. A soft stop is the recommended shutdown method in which the controller slowly ramps down operation of the cryocooler and parks the piston against the end stop before shutting it down completely. This re-duces vibration, allows the controller to remain on, and reduces the risk of self-excitation (when turning off the cryocooler at very low temperatures–below 77 K). This command will only work if the soft-stop control mode is set to mode 0. (If set to mode 1, then Digital Input 1 is used to control the soft-stop state.)\n",
    "        Usage: \n",
    "        Entering a value of 0 restarts a stopped cryocooler and disables the soft-stop function.\n",
    "        Entering a value of 1 begins a soft stop of the cryocooler and enables the soft-stop function. Do not remove power from the controller until the shutdown process has been completed and the word COMPLETE is displayed on the computer screen.\n",
    "    \"\"\"\n",
    "    \n",
    "    cmdstr= 'SET SSTOP='+str(value)+'\\r'\n",
    "    cmd=bytes(cmdstr,'UTF-8')\n",
    "    ser0.write(cmd)\n",
    "    time.sleep(1)\n",
    "    out =ser0.readlines()\n",
    "    #print(out)\n",
    "    #print(\"Command Sucessful\")\n",
    "    \n",
    "    return out\n",
    "\n",
    "def get_target_power_output():\n",
    "    \"\"\"Target Power Output\n",
    "        Use the SET PWOUT command to display the target power output setting.\n",
    "        Display Target Power Output: SET PWOUT\n",
    "        \n",
    "        The target power output setting is the power level that the user has set as the target power output to send to the cryocooler when in power control mode. This setting is only a target power level: the actual power output that the controller is commanding is displayed by the E command and is subject to the power limits also displayed by the E command. The default target power output setting is 0 W.\n",
    "        While any number from 0.0 to 999.99 can be entered as the target power output, the controller will not command a power level that is outside of the currently-calculated allowable operating power range of the cryocooler (as shown using the E command) regardless of the target power output set by the user. Refer to the E command sec-tion for details on how the allowable operating power range is calculated.\n",
    "    \n",
    "    \"\"\"\n",
    "    ser0.write(b'SET PWOUT\\r')\n",
    "    time.sleep(1)\n",
    "    out =ser0.readlines()\n",
    "    #print(out)\n",
    "    #print(\"Command Sucessful\")\n",
    "    return out\n",
    "\n",
    "def set_target_power_output(value):\n",
    "    \"\"\"Target Power Output\n",
    "        Use the SET PWOUT=<Value> command to change the target power output setting.\n",
    "        Display Target Power Output: SET PWOUT=<value>\n",
    "        \n",
    "        The target power output setting is the power level that the user has set as the target power output to send to the cryocooler when in power control mode. This setting is only a target power level: the actual power output that the controller is commanding is displayed by the E command and is subject to the power limits also displayed by the E command. The default target power output setting is 0 W.\n",
    "        While any number from 0.0 to 999.99 can be entered as the target power output, the controller will not command a power level that is outside of the currently-calculated allowable operating power range of the cryocooler (as shown using the E command) regardless of the target power output set by the user. Refer to the E command sec-tion for details on how the allowable operating power range is calculated.\n",
    "    \"\"\"\n",
    "    cmdstr= 'SET PWOUT='+str(value)+'\\r'\n",
    "    # cmd_b= cmdstr.encode(cmdstr)\n",
    "    cmd=bytes(cmdstr,'UTF-8')\n",
    "    ser0.write(cmd)\n",
    "    time.sleep(1)\n",
    "    out =ser0.readlines()\n",
    "    #print(out)\n",
    "    #print(\"Command Sucessful\")\n",
    "    return out\n",
    "\n",
    "\n",
    "def get_target_temperature():\n",
    "    \n",
    "    \"\"\"Target Temperature: Get Target Temperature: SET TTARGET\n",
    "        Use the SET TTARGET=<Value> command to set the target temperature.\n",
    "        The target temperature is the target cold tip temperature that the controller will try to attain, ±0.1 K, when the controller is in temperature control mode. The default target temperature is 77 K.\n",
    "    \n",
    "    \"\"\"\n",
    "    ser0.write(b'SET TTARGET\\r')\n",
    "    time.sleep(1)\n",
    "    out =ser0.readlines()\n",
    "    #print(out)\n",
    "    #print(\"Command Sucessful\")\n",
    "    return out\n",
    "\n",
    "def set_target_temperature(value):\n",
    "    \"\"\"Target Temperature: Set Target Temperature: SET TTARGET\n",
    "        Use the SET TTARGET command to display the target temperature.\n",
    "        The target temperature is the target cold tip temperature that the controller will try to attain, ±0.1 K, when the controller is in temperature control mode. The default target temperature is 77 K.\n",
    "    \"\"\"\n",
    "    cmdstr= 'SET TTARGET='+str(value)+'\\r'\n",
    "    cmd=bytes(cmdstr,'utf-8')\n",
    "    ser0.write(cmd)\n",
    "    time.sleep(1)\n",
    "    out =ser0.readlines()\n",
    "    #print(out)\n",
    "    #print(\"Command Sucessful\")\n",
    "    return out\n",
    "\n",
    "def get_target_band():\n",
    "    \"\"\"Get Temperature Band: SET TBAND\n",
    "        Use the SET TBAND command to display the ± temperature band in kelvins.\n",
    "        The temperature band is the ± tolerance band used with the target temperature to determine when the cold tip is considered to be at the target temperature (for the sole purposes of operating the controller’s LEDs and the Digital Out 4 pin on the controller’s I/O connector). For example, if the target temperature is set at 77 K, and the ± tem-perature band is set at ±0.5 K, and the controller is in temperature control mode, then the green LED will be on and the Digital Out 4 pin will be high (5 V) when the cold tip temperature is 77 K ±0.5 K. Also, the red LED will be on and the Digital Out 4 pin will be low (0 V) when the cold tip temperature is outside of that range. The de-fault ± temperature band is ±0.5 K.\n",
    "    \n",
    "    \"\"\"\n",
    "    ser0.write(b'SET TBAND\\r')\n",
    "    time.sleep(1)\n",
    "    out =ser0.readlines()\n",
    "    #print(out)\n",
    "    #print(\"Command Sucessful\")\n",
    "    return out\n",
    "\n",
    "def set_target_band(band):\n",
    "    \"\"\"Set Temperature Band: SET TBAND=<Value>\n",
    "        Use the SET TBAND=<Value> command to set the ± temperature band in kelvins.\n",
    "        The temperature band is the ± tolerance band used with the target temperature to determine when the cold tip is considered to be at the target temperature (for the sole purposes of operating the controller’s LEDs and the Digital Out 4 pin on the controller’s I/O connector). For example, if the target temperature is set at 77 K, and the ± tem-perature band is set at ±0.5 K, and the controller is in temperature control mode, then the green LED will be on and the Digital Out 4 pin will be high (5 V) when the cold tip temperature is 77 K ±0.5 K. Also, the red LED will be on and the Digital Out 4 pin will be low (0 V) when the cold tip temperature is outside of that range. The de-fault ± temperature band is ±0.5 K.\n",
    "    \"\"\"\n",
    "    cmdstr= 'SET TBAND='+str(band)+'\\r'\n",
    "    cmd_b= cmdstr.encode(cmdstr)\n",
    "    ser0.write(cmd_b)\n",
    "    time.sleep(1)\n",
    "    out =ser0.readlines()\n",
    "    #print(out)\n",
    "    #print(\"Command Sucessful\")\n",
    "    return out\n",
    "\n",
    "\n",
    "def get_thermostat_mode():\n",
    "    \"\"\"Get Thermostat Mode: Display Thermostat Mode: SET TSTATM\n",
    "        The thermostat mode indicates whether the controller is set to work with a thermostat (mode 1), or is set to not work with a thermostat (mode 0). When in mode 1, a thermostat connected across pin 7 (Digital Input 3) and pin 10 or 12 (Onboard Isolated 5 V Output) of the controller’s I/O connector can be used to shut down the cryocooler when the temperature is outside of a desired temperature range. (As long as pin 7 is high [thermostat closed], a running cryocooler is allowed to continue running, but anytime the thermostat becomes open, the controller shuts down the cryocooler. At that point, the thermostat must be closed before the cryocooler can be started up again. This does not generate an error and does not require a power cycle to restart.)\n",
    "        \n",
    "\n",
    "    \"\"\"\n",
    "    ser0.write(b'SET TSTATM\\r')\n",
    "    time.sleep(1)\n",
    "    out =ser0.readlines()\n",
    "    #print(out)\n",
    "    #print(\"Command Sucessful\")\n",
    "    return out\n",
    "\n",
    "def set_thermostat_mode(mode):\n",
    "    \"\"\"Set Thermostat Mode: SET Thermostat Mode: SET TSTATM=<Mode>\n",
    "        Use the SET TSTATM=<Value> command to set the thermostat mode of the controller.\n",
    "\n",
    "        The thermostat mode indicates whether the controller is set to work with a thermostat (mode 1), or is set to not work with a thermostat (mode 0). When in mode 1, a thermostat connected across pin 7 (Digital Input 3) and pin 10 or 12 (Onboard Isolated 5 V Output) of the controller’s I/O connector can be used to shut down the cryocooler when the temperature is outside of a desired temperature range. (As long as pin 7 is high [thermostat closed], a running cryocooler is allowed to continue running, but anytime the thermostat becomes open, the controller shuts down the cryocooler. At that point, the thermostat must be closed before the cryocooler can be started up again. This does not generate an error and does not require a power cycle to restart.)\n",
    "    \n",
    "        Entering a value of 0 (mode 0) disables the controller's ability to work with a thermostat.\n",
    "        Entering a value of 1 (mode 1) enables the controller's ability to work with a thermostat.\n",
    "    \n",
    "    \"\"\"\n",
    "\n",
    "    cmdstr= 'SET TSTATM='+str(mode)+'\\r'\n",
    "    cmd_b= cmdstr.encode(cmdstr)\n",
    "    ser0.write(cmd_b)\n",
    "    time.sleep(1)\n",
    "    out =ser0.readlines()\n",
    "    #print(out)\n",
    "    #print(\"Command Sucessful\")\n",
    "    return out\n",
    "\n",
    "\n",
    "def get_thremostat_state():\n",
    "    \"\"\"Get Thermostat STATE: Display Thermostat STATE: SET TSTAT\n",
    "        Use the TSTAT command to display the current state of the thermostat.\n",
    "\n",
    "        The thermostat state indicates the current state (open or closed) of a thermostat connected across pin 7 and pin 10 or 12 of the controller’s I/O connector. This state is only meaningful if thermostat mode has been enabled (using the SET TSTATM=1 command) and a thermostat is installed.\n",
    "        If the thermostat state is open, that means the cryocooler has been automatically shut down or is in the process of automatically shutting down. The thermostat must then be closed before the cryocooler can be started up again. Startup will happen automatically when the thermostat closes.\n",
    "\n",
    "        A return of 000.00 indicates that the thermostat is open.\n",
    "        A return of 001.00 indicates that the thermostat is closed.\n",
    "    \n",
    "    \"\"\"\n",
    "    ser0.write(b'SET TSTAT\\r')\n",
    "    time.sleep(1)\n",
    "    out =ser0.readlines()\n",
    "    #print(out)\n",
    "    #print(\"Command Sucessful\")\n",
    "    return out\n",
    "\n",
    "\"\"\"User-Defined Minimum & Maximum Power Output\n",
    "Set User-Defined Minimum Power Output: SET MIN=<Value>\n",
    "Display User-Defined Minimum Power Output: SET MIN\n",
    "Set User-Defined Maximum Power Output: SET MAX=<Value>\n",
    "\n",
    "Display User-Defined Maximum Power Output: SET MAX\n",
    "Display User-Defined Minimum & Maximum Power Output: SHOW MX\"\"\"\n",
    "\n",
    "def get_user_min_power():\n",
    "    \n",
    "    \"\"\"Set Thermostat Mode: Display Thermostat Mode: SET TSTATM\n",
    "        Use the SET MIN=<Value> command to set the user-defined minimum power output setting for the controller.\n",
    "        \n",
    "        The user-defined minimum power output setting for the controller is used in both the power control mode and the temperature control mode. Entering a value that is less than the minimum safe power output to the cryocooler (60 W at 77 K) will not result in damage to the cryocooler because the controller will not command a power that is less than the minimum safe power output to the cryocooler. The minimum power output to the cryocooler will either be the minimum safe power output, or the user-defined minimum power output, whichever is higher. The default user-defined minimum power output setting is 0 W.\n",
    "        The user-defined maximum power output setting for the controller is used in both the power control mode and the temperature control mode. Entering a value that exceeds the maximum safe power output to the cryocooler will not result in damage to the cryocooler because the controller will not command a power that exceeds the maxi-mum safe power output to the cryocooler. The maximum safe power output to the cryocooler is a function of the cold tip temperature and increases as the cold tip temperature decreases. (It’s 165 W at 77 K.) The maximum power output to the cryocooler will be either the maximum safe power output, or the user-defined maximum power output, whichever is lower. The default user-defined maximum power output setting is 300 W.\n",
    "    \"\"\"\n",
    "    ser0.write(b'SET MIN\\r')\n",
    "    time.sleep(1)\n",
    "    out =ser0.readlines()\n",
    "    #print(out)\n",
    "    #print(\"Command Sucessful\")\n",
    "    return out\n",
    "\n",
    "def get_user_max_power():\n",
    "    \"\"\"Set Thermostat Mode: Display Thermostat Mode: SET TSTATM\n",
    "        Use the SET MAX command to display the user-defined maximum power output setting for the controller.\n",
    "        \n",
    "        The user-defined minimum power output setting for the controller is used in both the power control mode and the temperature control mode. Entering a value that is less than the minimum safe power output to the cryocooler (60 W at 77 K) will not result in damage to the cryocooler because the controller will not command a power that is less than the minimum safe power output to the cryocooler. The minimum power output to the cryocooler will either be the minimum safe power output, or the user-defined minimum power output, whichever is higher. The default user-defined minimum power output setting is 0 W.\n",
    "        The user-defined maximum power output setting for the controller is used in both the power control mode and the temperature control mode. Entering a value that exceeds the maximum safe power output to the cryocooler will not result in damage to the cryocooler because the controller will not command a power that exceeds the maxi-mum safe power output to the cryocooler. The maximum safe power output to the cryocooler is a function of the cold tip temperature and increases as the cold tip temperature decreases. (It’s 165 W at 77 K.) The maximum power output to the cryocooler will be either the maximum safe power output, or the user-defined maximum power output, whichever is lower. The default user-defined maximum power output setting is 300 W.\n",
    "    \"\"\"\n",
    "    ser0.write(b'SET MAX\\r')\n",
    "    time.sleep(1)\n",
    "    out =ser0.readlines()\n",
    "    #print(out)\n",
    "    #print(\"Command Sucessful\")\n",
    "    return out\n",
    "\n",
    "def get_user_min_max_power():\n",
    "    \"\"\"Set Thermostat Mode: Display Thermostat Mode: SET TSTATM\n",
    "        Use the SHOW MX command to display the user-defined minimum and maximum power output settings for the controller. (You can also use the SET MIN and SET MAX commands to display the same settings individually.)\n",
    "        The first line of the values returned by this command is the used-defined minimum power output setting for the controller. The second line of the values returned by this command is the used-defined maximum power output setting for the controller. All values are in watts.\n",
    "    \"\"\"\n",
    "    ser0.write(b'SHOW MX\\r')\n",
    "    time.sleep(1)\n",
    "    out =ser0.readlines()\n",
    "    #print(out)\n",
    "    #print(\"Command Sucessful\")\n",
    "    return out\n",
    "\n",
    "\"\"\"User-Lockable Commands\n",
    "Lock User-Lockable Commands: LOCK=<Password>\n",
    "Unlock User-Lockable Commands: UNLOCK=<Password>\n",
    "Set User Password: SET PASS=<Value>\n",
    "Display User Lock State: LOCK\n",
    "\n",
    "Commands in the user-lockable commands group (table B-1) can be locked so that the parameters associated with those commands cannot be changed. To lock the commands, you must enter a user password. In order to unlock a command, you must unlock the entire group of commands by entering the user password. The default user pass-word is STIRLING, but you can change the user password when the commands are unlocked. The controller is shipped with these commands in the unlocked state. If the commands are locked and the user password has been misplaced, the controller must be sent back to Sunpower so that we can unlock the commands.\n",
    "\n",
    "\"\"\"\n",
    "\n",
    "def get_lock_state():\n",
    "    \"\"\"Display User Lock State: LOCK\n",
    "        Use the LOCK command to display the user lock state.\n",
    "        A return of 000.00 indicates that the commands are unlocked.\n",
    "        A return of 001.00 indicates that the commands are locked.\n",
    "    \"\"\"\n",
    "    ser0.write(b'LOCK\\r')\n",
    "    time.sleep(1)\n",
    "    out =ser0.readlines()\n",
    "    #print(out)\n",
    "    #print(\"Command Sucessful\")\n",
    "    return out\n",
    "\n",
    "def lock_ud_commands(passwd):\n",
    "    \"\"\"Lock User-Lockable Commands: LOCK=<Password>\n",
    "        Use the LOCK=<Password> command to lock access to the commands in the user-lockable commands group (table B-1). “<Password>” means “type the currently-set password”.\n",
    "    \n",
    "    \"\"\"\n",
    "    cmdstr= 'LOCK='+str(passwd)+'\\r'\n",
    "    cmd_b= cmdstr.encode(cmdstr)\n",
    "    ser0.write(cmd_b)\n",
    "    time.sleep(1)\n",
    "    out =ser0.readlines()\n",
    "    #print(out)\n",
    "    #print(\"Command Sucessful\")\n",
    "    return out\n",
    "\n",
    "def unlock_ud_commands(passwd):\n",
    "    \"\"\"UNLock User-Lockable Commands: UNLOCK=<Password>\n",
    "        Use the UNLOCK=<Password> command to unlock access to the commands in the user-lockable commands group (table B-1). “<Password>” means “type the currently-set password”.\n",
    "        A return of 000.00 confirms that the commands are unlocked.\n",
    "    \"\"\"\n",
    "    cmdstr= 'UNLOCK='+str(passwd)+'\\r'\n",
    "    cmd_b= cmdstr.encode(cmdstr)\n",
    "    ser0.write(cmd_b)\n",
    "    time.sleep(1)\n",
    "    out =ser0.readlines()\n",
    "    #print(out)\n",
    "    #print(\"Command Sucessful\")\n",
    "    return out\n",
    "\n",
    "def set_password(passwd):\n",
    "    \"\"\"Set User Password: SET PASS=<Value>\n",
    "        Use the SET PASS=<Value> command to define a user password.\n",
    "        Enter an alphanumeric value between 1 and 10 characters in length. This value will replace the previous password.\n",
    "        A return of 001.00 confirms that the password was successfully changed.\n",
    "    \"\"\"\n",
    "    cmdstr= 'SET PASS='+str(passwd)+'\\r'\n",
    "    cmd_b= cmdstr.encode(cmdstr)\n",
    "    ser0.write(cmd_b)\n",
    "    time.sleep(1)\n",
    "    out =ser0.readlines()\n",
    "    #print(out)\n",
    "    #print(\"Command Sucessful\")\n",
    "    return out\n",
    "\n",
    "def cryo_temp_single_read(ser0):\n",
    "    import datetime\n",
    "    out = get_temperature(ser0)\n",
    "    cryo_temp_df=pd.DataFrame(data=[out])\n",
    "    return cryo_temp_df\n",
    "def cryo_temp_log_duration(duration=5):\n",
    "    #log temperature data for {duration} seconds\n",
    "    import datetime\n",
    "    start_log=datetime.datetime.now()\n",
    "    elapsed_time=datetime.datetime.now()-start_log\n",
    "    cryo_temp_df =pd.DataFrame(data=None)\n",
    "    out = get_temperature()\n",
    "    cryo_temp_df=cryo_temp_df.append(pd.DataFrame([out[1:]]))\n",
    "    while elapsed_time.seconds<duration: \n",
    "        out = get_temperature()\n",
    "        cryo_temp_df=cryo_temp_df.append(pd.DataFrame([out[1:]],columns={\"time\",\"temp_cryo\"}))\n",
    "        elapsed_time=datetime.now()-start_log       \n",
    "    return cryo_temp_df"
   ]
  },
  {
   "cell_type": "markdown",
   "metadata": {},
   "source": []
  },
  {
   "cell_type": "code",
   "execution_count": 4,
   "metadata": {},
   "outputs": [
    {
     "name": "stdout",
     "output_type": "stream",
     "text": [
      "Intial cooldown power set to 30 W\n",
      "Target Detector Temperature: 183 K\n",
      "Crycooler tip Temperature steps= [200 160 132] K\n",
      "CF1 Temperature steps= [178 138 110] K\n",
      "Detector Temperature steps= [251 211 183] K\n",
      "Target CF1 Temperature in lakeshore: 160.515\n",
      "Target cold tip Temperature: 132\n"
     ]
    }
   ],
   "source": [
    "cooldown_power=30 #W\n",
    "det_offset_cf1=22.485 #K\n",
    "det_offset_coldtip=51 #K  \n",
    "detector_temperature=273-90 #-90C\n",
    "cf1_temperature=detector_temperature-det_offset_cf1\n",
    "coldtip_temperature = 132\n",
    "switchover_offset=20\n",
    "\n",
    "cryo_temp_steps= np.array([200,160,coldtip_temperature])\n",
    "cryo_temp_switchover=cryo_temp_steps+int(switchover_offset)\n",
    "det_temp_steps=cryo_temp_steps+int(det_offset_coldtip)\n",
    "cf1_temp_steps=cryo_temp_steps-int(det_offset_cf1)\n",
    "\n",
    "# modeswitch_temperature=160\n",
    "# set_pid_mode(0)\n",
    "# set_target_power_output(cooldown_power)\n",
    "# set_soft_stop_state(0)1\n",
    "\n",
    "print(f\"Intial cooldown power set to {cooldown_power} W\")\n",
    "print(f\"Target Detector Temperature: {detector_temperature} K\")\n",
    "# print(f\"Target Cold tip temperature will be set to {coldtip_temperature} K after Mode switches to Temp mode at {modeswitch_temperature}\")\n",
    "# print(f\"Mode switch temperateure: {modeswitch_temperature}\")\n",
    "print(f\"Crycooler tip Temperature steps= {cryo_temp_steps} K\")\n",
    "print(f\"CF1 Temperature steps= {cf1_temp_steps} K\")\n",
    "print(f\"Detector Temperature steps= {det_temp_steps} K\")\n",
    "\n",
    "print(f\"Target CF1 Temperature in lakeshore: {cf1_temperature}\")\n",
    "print(f\"Target cold tip Temperature: {coldtip_temperature}\")\n",
    "\n",
    "\n",
    "\n",
    "# cooldown_power=30 #W\n",
    "# det_offset_cf1=22.485 #K\n",
    "# det_offset_coldtip=51 #K  \n",
    "# detector_temperature=273-90 #-90C\n",
    "# cf1_temperature=detector_temperature-det_offset_cf1\n",
    "# coldtip_temperature = 132\n",
    "# modeswitch_temperature=160\n",
    "# # set_pid_mode(0)\n",
    "# # set_target_power_output(cooldown_power)\n",
    "# # set_soft_stop_state(0)\n",
    "# print(f\"Intial cooldown power set to {cooldown_power} W\")\n",
    "# print(f\"Target Detector Temperature: {detector_temperature} K\")\n",
    "# print(f\"Target Cold tip temperature will be set to {coldtip_temperature} K after Mode switches to Temp mode at {modeswitch_temperature}\")\n",
    "# print(f\"Mode switch temperateure: {modeswitch_temperature}\")\n",
    "# print(f\"Target CF1 Temperature in lakeshore: {cf1_temperature}\")\n",
    "\n"
   ]
  },
  {
   "cell_type": "code",
   "execution_count": 5,
   "metadata": {},
   "outputs": [
    {
     "name": "stdout",
     "output_type": "stream",
     "text": [
      "connection successful\n"
     ]
    }
   ],
   "source": []
  },
  {
   "cell_type": "code",
   "execution_count": 14,
   "metadata": {},
   "outputs": [
    {
     "ename": "AttributeError",
     "evalue": "module 'datetime' has no attribute 'now'",
     "output_type": "error",
     "traceback": [
      "\u001b[1;31m---------------------------------------------------------------------------\u001b[0m",
      "\u001b[1;31mAttributeError\u001b[0m                            Traceback (most recent call last)",
      "\u001b[1;32m~\\AppData\\Local\\Temp/ipykernel_10084/2051577660.py\u001b[0m in \u001b[0;36m<module>\u001b[1;34m\u001b[0m\n\u001b[0;32m      1\u001b[0m \u001b[0mcryo_port\u001b[0m\u001b[1;33m=\u001b[0m\u001b[1;34m'COM7'\u001b[0m\u001b[1;33m\u001b[0m\u001b[1;33m\u001b[0m\u001b[0m\n\u001b[0;32m      2\u001b[0m \u001b[1;33m\u001b[0m\u001b[0m\n\u001b[1;32m----> 3\u001b[1;33m \u001b[0mtoday\u001b[0m\u001b[1;33m=\u001b[0m\u001b[0mdatetime\u001b[0m\u001b[1;33m.\u001b[0m\u001b[0mnow\u001b[0m\u001b[1;33m(\u001b[0m\u001b[1;33m)\u001b[0m\u001b[1;33m\u001b[0m\u001b[1;33m\u001b[0m\u001b[0m\n\u001b[0m\u001b[0;32m      4\u001b[0m \u001b[1;31m# filename_base=today.strftime(\"%m_%d_%Y\")+'_1'\u001b[0m\u001b[1;33m\u001b[0m\u001b[1;33m\u001b[0m\u001b[1;33m\u001b[0m\u001b[0m\n\u001b[0;32m      5\u001b[0m \u001b[1;33m\u001b[0m\u001b[0m\n",
      "\u001b[1;31mAttributeError\u001b[0m: module 'datetime' has no attribute 'now'"
     ]
    }
   ],
   "source": [
    "cryo_port='COM7'\n",
    "\n",
    "today=datetime.now()\n",
    "# filename_base=today.strftime(\"%m_%d_%Y\")+'_1'\n",
    "\n",
    "from IPython.display import clear_output\n",
    "# import datetime\n",
    "import pandas as pd\n",
    "import time \n",
    "\n",
    "# cooling =True\n",
    "Restart=0#Raise flag if the logging is being restarted and the data in the exisiting dataframe must not be re written\n",
    "Sensor_map={'LSA':'LS Input A: EMCCD Detector',\n",
    "            'LSB':'LS Input B: Cold Finger 1',\n",
    "            'LSC':'LS Input C: Cold Finger 2',\n",
    "            'LSD':'LS Input D: Vapour Shroud',\n",
    "            'Cryo':'Cryo Cold Tip'\n",
    "            }\n",
    "\n",
    "if Restart==0: #if the logging is not being restarted .\n",
    "    #Get Lakeshore temperature data for the first time\n",
    "    filename_base=today.strftime(\"%m_%d_%Y\")\n",
    "    myinstrument.device_serial.open()\n",
    "    df=pd.DataFrame(get_temp_data())\n",
    "    myinstrument.device_serial.close()    \n",
    "    #Get cryo temperature data for the first time\n",
    "    ser0=start_connection(cryo_port)\n",
    "    df_cryo = cryo_temp_single_read(ser0)\n",
    "    stop_connection(ser0)\n",
    "\n",
    "start_time=datetime.now()\n",
    "cryo_path=f\"Cryocooler_Templog_{filename_base}.csv\"\n",
    "lakeshore_path=f\"Lakeshore_Templog_{filename_base}.csv\"\n",
    "webpath =f\"Exp_Templog_{filename_base}.html\"\n",
    "# Use this function to search for any files which match your filename\n",
    "files_present = glob.glob(cryo_path)+glob.glob(lakeshore_path)\n",
    "# if no matching files, write to csv, if there are matching files, print statement\n",
    "if files_present:\n",
    "       df_cryo=pd.read_csv(cryo_path)\n",
    "       df=pd.read_csv(lakeshore_path)\n",
    "\n",
    "log_duration = 24*60*60 #seconds\n",
    "log_step=1 #seconds \n",
    "time_check_state=start_time\n",
    "\n",
    "while datetime.now()-start_time<timedelta(seconds=log_duration):\n",
    "    # print(\"its true\")\n",
    "    timer_save_data=datetime.now()\n",
    "    timer_plot_data=timer_save_data\n",
    "    \n",
    "    while datetime.now()-timer_save_data<timedelta(seconds=60):\n",
    "            \n",
    "        myinstrument=lakeshore_initialize()\n",
    "        dftemp=pd.DataFrame(get_temp_data())\n",
    "        myinstrument.device_serial.close() \n",
    "        \n",
    "        \n",
    "        ser0=start_connection(cryo_port)\n",
    "        dftemp_cryo=cryo_temp_single_read(ser0)\n",
    "        stop_connection(ser0)\n",
    "\n",
    "        df=df.append(dftemp,ignore_index = True)\n",
    "        df_cryo=df_cryo.append(dftemp_cryo,ignore_index = True)\n",
    "        #display(df[-5:])\n",
    "        df_cryo.to_csv(cryo_path)\n",
    "        df.to_csv(lakeshore_path)\n",
    "        sleep(60)\n",
    "        #clear_output(wait=True)    \n",
    "       \n",
    "    if datetime.now()-timer_plot_data>timedelta(seconds=60):\n",
    "        clear_output(wait=True)\n",
    "        df_read_cryo=pd.read_csv(cryo_path)\n",
    "        df_read_lakeshore=pd.read_csv(lakeshore_path)\n",
    "        # df=df.append(df_read_lakeshore,ignore_index=True)\n",
    "        \n",
    "        fig = plotly.subplots.make_subplots(rows=3, cols=2, vertical_spacing=0.2)\n",
    "        fig['layout']['margin'] = {'l': 30, 'r': 10, 'b': 30, 't': 100}\n",
    "        fig['layout']['legend'] = {'x': 0, 'y': -0.25, 'xanchor': 'left','orientation':\"h\"}\n",
    "        \n",
    "        fig.append_trace({\n",
    "            'x': df_read_lakeshore.time,\n",
    "            'y': df_read_lakeshore.tempA_log,\n",
    "            'name': Sensor_map['LSA'],\n",
    "            'type': 'scatter'\n",
    "        }, 1, 1)\n",
    "\n",
    "        fig.append_trace({\n",
    "            'x': df_read_lakeshore.time,\n",
    "            'y': df_read_lakeshore.tempB_log,\n",
    "            'name': Sensor_map['LSB'],\n",
    "            'type': 'scatter'\n",
    "        }, 1, 1)\n",
    "\n",
    "        fig.append_trace({\n",
    "            'x': df_read_lakeshore.time,\n",
    "            'y': df_read_lakeshore.tempC_log,\n",
    "            'name': Sensor_map['LSC'],\n",
    "            'type': 'scatter'\n",
    "        }, 1, 1)\n",
    "\n",
    "        fig.append_trace({\n",
    "            'x': df_read_lakeshore.time,\n",
    "            'y': df_read_lakeshore.tempD_log,\n",
    "            'name': Sensor_map['LSD'],\n",
    "            'type': 'scatter'\n",
    "        }, 1, 1)\n",
    "        \n",
    "        fig.append_trace({\n",
    "            'x': df_read_cryo.time,\n",
    "            'y': df_read_cryo.cryo_temp,\n",
    "            'name': Sensor_map['Cryo'],\n",
    "            'type': 'scatter'\n",
    "        }, 1, 1)\n",
    "        \n",
    "        fig.append_trace({\n",
    "            'x': df_read_lakeshore.time,\n",
    "            'y': df_read_lakeshore.tempA_log,\n",
    "            'name': Sensor_map['LSA'],\n",
    "            'type': 'scatter'\n",
    "        }, 1, 2)\n",
    "\n",
    "\n",
    "        fig.append_trace({\n",
    "            'x': df_read_lakeshore.time,\n",
    "            'y': df_read_lakeshore.tempB_log,\n",
    "            'name': Sensor_map['LSB'],\n",
    "            'type': 'scatter'\n",
    "        }, 2, 1)\n",
    "\n",
    "        fig.append_trace({\n",
    "            'x': df_read_lakeshore.time,\n",
    "            'y': df_read_lakeshore.tempC_log,\n",
    "            'name': Sensor_map['LSC'],\n",
    "            'type': 'scatter'\n",
    "        }, 2, 2)\n",
    "\n",
    "        fig.append_trace({\n",
    "            'x': df_read_lakeshore.time,\n",
    "            'y': df_read_lakeshore.tempD_log,\n",
    "            'name': Sensor_map['LSD'],\n",
    "            'type': 'scatter'\n",
    "        }, 3, 1)\n",
    "        \n",
    "        fig.append_trace({\n",
    "            'x': df_read_cryo.time,\n",
    "            'y': df_read_cryo.cryo_temp,\n",
    "            'name': Sensor_map['Cryo'],\n",
    "            'type': 'scatter'\n",
    "        }, 3, 2)\n",
    "        # fig.update_layout(yaxis = dict(range=[77,300]))\n",
    "        fig.update_layout(width=900,height=800)\n",
    "\n",
    "        fig.update_yaxes(range=[70.0,300.0],row=1,col=1)\n",
    "        fig.update_yaxes(range=[70,300],row=1,col=2)\n",
    "        fig.update_yaxes(range=[70,300],row=2,col=1)\n",
    "        fig.update_yaxes(range=[70,300],row=2,col=2)\n",
    "        fig.update_yaxes(range=[70,300],row=3,col=1)\n",
    "        \n",
    "        fig.update_layout(\n",
    "            title={\n",
    "                'text':\"Detector cooling chain test: Temperature vs time\",\n",
    "                'y':0.95,\n",
    "                'x':0.5,\n",
    "                'xanchor': 'center',\n",
    "                'yanchor': 'top'})\n",
    "        # fig.update_layout(xaxis_tickformat = '%H:%M')\n",
    "        # fig.update_xaxes(ticks= \"outside\",\n",
    "        #                  ticklabelmode= \"period\", \n",
    "        #                  tickcolor= \"black\", \n",
    "        #                  ticklen=10, \n",
    "        #                  dtick=10,\n",
    "        #                 #  minor=dict(\n",
    "        #                 #      ticklen=4,  \n",
    "        #                 #      dtick=7*24*60*60*1000,  \n",
    "        #                 #      tick0=\"2016-07-03\", \n",
    "        #                 #      griddash='dot', \n",
    "        #                 #      gridcolor='white'),\n",
    "        #                 row=1,col=1)\n",
    "        fig.layout.template='simple_white'\n",
    "        fig.show()\n",
    "        fig.write_html(f\"{webpath}\")"
   ]
  },
  {
   "cell_type": "code",
   "execution_count": 16,
   "metadata": {},
   "outputs": [
    {
     "data": {
      "application/vnd.plotly.v1+json": {
       "config": {
        "plotlyServerURL": "https://plot.ly"
       },
       "data": [
        {
         "hovertemplate": "<b>LS Input A: EMCCD Detector</b><br><br>Temperature: %{y} K<br>Time: %{x}<br><extra></extra>",
         "legendgroup": "1",
         "line": {
          "color": "rgb(136, 204, 238)"
         },
         "name": "LS Input A: EMCCD Detector @ 300.322 K",
         "type": "scatter",
         "x": [
          "2022-09-25 12:40:14.132097",
          "2022-09-25 12:40:16.898133",
          "2022-09-25 12:41:19.640795",
          "2022-09-25 12:42:46.617566",
          "2022-09-25 12:55:27.013468",
          "2022-09-25 12:56:59.987150",
          "2022-09-25 12:58:06.298040"
         ],
         "xaxis": "x",
         "y": [
          300.417,
          300.413,
          300.4079895019531,
          300.39801025390625,
          300.3349914550781,
          300.32501220703125,
          300.3219909667969
         ],
         "yaxis": "y"
        },
        {
         "hovertemplate": "<b>LS Input B: Cold Finger 1</b><br><br>Temperature: %{y} K<br>Time: %{x}<br><extra></extra>",
         "legendgroup": "1",
         "line": {
          "color": "rgb(204, 102, 119)"
         },
         "name": "LS Input B: Cold Finger 1 @ 300.219 K",
         "type": "scatter",
         "x": [
          "2022-09-25 12:40:14.132097",
          "2022-09-25 12:40:16.898133",
          "2022-09-25 12:41:19.640795",
          "2022-09-25 12:42:46.617566",
          "2022-09-25 12:55:27.013468",
          "2022-09-25 12:56:59.987150",
          "2022-09-25 12:58:06.298040"
         ],
         "xaxis": "x",
         "y": [
          300.312,
          300.307,
          300.3099975585937,
          300.2980041503906,
          300.2300109863281,
          300.2279968261719,
          300.218994140625
         ],
         "yaxis": "y"
        },
        {
         "hovertemplate": "<b>LS Input C: Cold Finger 2</b><br><br>Temperature: %{y} K<br>Time: %{x}<br><extra></extra>",
         "legendgroup": "2",
         "line": {
          "color": "rgb(221, 204, 119)"
         },
         "name": "LS Input C: Cold Finger 2 @ 300.519 K",
         "type": "scatter",
         "x": [
          "2022-09-25 12:40:14.132097",
          "2022-09-25 12:40:16.898133",
          "2022-09-25 12:41:19.640795",
          "2022-09-25 12:42:46.617566",
          "2022-09-25 12:55:27.013468",
          "2022-09-25 12:56:59.987150",
          "2022-09-25 12:58:06.298040"
         ],
         "xaxis": "x",
         "y": [
          300.617,
          300.613,
          300.6080017089844,
          300.6029968261719,
          300.5379943847656,
          300.52801513671875,
          300.5190124511719
         ],
         "yaxis": "y"
        },
        {
         "hovertemplate": "<b>LS Input D: Vapour Shroud</b><br><br>Temperature: %{y} K<br>Time: %{x}<br><extra></extra>",
         "legendgroup": "2",
         "line": {
          "color": "rgb(17, 119, 51)"
         },
         "name": "LS Input D: Vapour Shroud @ 298.614 K",
         "type": "scatter",
         "x": [
          "2022-09-25 12:40:14.132097",
          "2022-09-25 12:40:16.898133",
          "2022-09-25 12:41:19.640795",
          "2022-09-25 12:42:46.617566",
          "2022-09-25 12:55:27.013468",
          "2022-09-25 12:56:59.987150",
          "2022-09-25 12:58:06.298040"
         ],
         "xaxis": "x",
         "y": [
          298.626,
          298.63,
          298.6289978027344,
          298.625,
          298.614990234375,
          298.6130065917969,
          298.614013671875
         ],
         "yaxis": "y"
        },
        {
         "hovertemplate": "<b>Cryo Cold Tip</b><br><br>Temperature: %{y} K<br>Time: %{x}<br><extra></extra>",
         "legendgroup": "3",
         "line": {
          "color": "rgb(51, 34, 136)"
         },
         "name": "Cryo Cold Tip @ 300.11 K",
         "type": "scatter",
         "x": [
          "2022-09-25 12:40:16.195607",
          "2022-09-25 12:40:18.923659",
          "2022-09-25 12:41:21.671073",
          "2022-09-25 12:42:48.658341",
          "2022-09-25 12:55:29.052375",
          "2022-09-25 12:57:02.026514",
          "2022-09-25 12:58:08.322329"
         ],
         "xaxis": "x",
         "y": [
          300.2,
          300.2,
          300.19,
          300.19,
          300.12,
          300.11,
          300.11
         ],
         "yaxis": "y"
        }
       ],
       "layout": {
        "height": 800,
        "legend": {
         "groupclick": "toggleitem",
         "orientation": "h",
         "x": 0,
         "xanchor": "left",
         "y": -0.5,
         "yanchor": "top"
        },
        "margin": {
         "b": 40,
         "l": 40,
         "r": 20,
         "t": 100
        },
        "template": {
         "data": {
          "bar": [
           {
            "error_x": {
             "color": "rgb(36,36,36)"
            },
            "error_y": {
             "color": "rgb(36,36,36)"
            },
            "marker": {
             "line": {
              "color": "white",
              "width": 0.5
             },
             "pattern": {
              "fillmode": "overlay",
              "size": 10,
              "solidity": 0.2
             }
            },
            "type": "bar"
           }
          ],
          "barpolar": [
           {
            "marker": {
             "line": {
              "color": "white",
              "width": 0.5
             },
             "pattern": {
              "fillmode": "overlay",
              "size": 10,
              "solidity": 0.2
             }
            },
            "type": "barpolar"
           }
          ],
          "carpet": [
           {
            "aaxis": {
             "endlinecolor": "rgb(36,36,36)",
             "gridcolor": "white",
             "linecolor": "white",
             "minorgridcolor": "white",
             "startlinecolor": "rgb(36,36,36)"
            },
            "baxis": {
             "endlinecolor": "rgb(36,36,36)",
             "gridcolor": "white",
             "linecolor": "white",
             "minorgridcolor": "white",
             "startlinecolor": "rgb(36,36,36)"
            },
            "type": "carpet"
           }
          ],
          "choropleth": [
           {
            "colorbar": {
             "outlinewidth": 1,
             "tickcolor": "rgb(36,36,36)",
             "ticks": "outside"
            },
            "type": "choropleth"
           }
          ],
          "contour": [
           {
            "colorbar": {
             "outlinewidth": 1,
             "tickcolor": "rgb(36,36,36)",
             "ticks": "outside"
            },
            "colorscale": [
             [
              0,
              "#440154"
             ],
             [
              0.1111111111111111,
              "#482878"
             ],
             [
              0.2222222222222222,
              "#3e4989"
             ],
             [
              0.3333333333333333,
              "#31688e"
             ],
             [
              0.4444444444444444,
              "#26828e"
             ],
             [
              0.5555555555555556,
              "#1f9e89"
             ],
             [
              0.6666666666666666,
              "#35b779"
             ],
             [
              0.7777777777777778,
              "#6ece58"
             ],
             [
              0.8888888888888888,
              "#b5de2b"
             ],
             [
              1,
              "#fde725"
             ]
            ],
            "type": "contour"
           }
          ],
          "contourcarpet": [
           {
            "colorbar": {
             "outlinewidth": 1,
             "tickcolor": "rgb(36,36,36)",
             "ticks": "outside"
            },
            "type": "contourcarpet"
           }
          ],
          "heatmap": [
           {
            "colorbar": {
             "outlinewidth": 1,
             "tickcolor": "rgb(36,36,36)",
             "ticks": "outside"
            },
            "colorscale": [
             [
              0,
              "#440154"
             ],
             [
              0.1111111111111111,
              "#482878"
             ],
             [
              0.2222222222222222,
              "#3e4989"
             ],
             [
              0.3333333333333333,
              "#31688e"
             ],
             [
              0.4444444444444444,
              "#26828e"
             ],
             [
              0.5555555555555556,
              "#1f9e89"
             ],
             [
              0.6666666666666666,
              "#35b779"
             ],
             [
              0.7777777777777778,
              "#6ece58"
             ],
             [
              0.8888888888888888,
              "#b5de2b"
             ],
             [
              1,
              "#fde725"
             ]
            ],
            "type": "heatmap"
           }
          ],
          "heatmapgl": [
           {
            "colorbar": {
             "outlinewidth": 1,
             "tickcolor": "rgb(36,36,36)",
             "ticks": "outside"
            },
            "colorscale": [
             [
              0,
              "#440154"
             ],
             [
              0.1111111111111111,
              "#482878"
             ],
             [
              0.2222222222222222,
              "#3e4989"
             ],
             [
              0.3333333333333333,
              "#31688e"
             ],
             [
              0.4444444444444444,
              "#26828e"
             ],
             [
              0.5555555555555556,
              "#1f9e89"
             ],
             [
              0.6666666666666666,
              "#35b779"
             ],
             [
              0.7777777777777778,
              "#6ece58"
             ],
             [
              0.8888888888888888,
              "#b5de2b"
             ],
             [
              1,
              "#fde725"
             ]
            ],
            "type": "heatmapgl"
           }
          ],
          "histogram": [
           {
            "marker": {
             "line": {
              "color": "white",
              "width": 0.6
             }
            },
            "type": "histogram"
           }
          ],
          "histogram2d": [
           {
            "colorbar": {
             "outlinewidth": 1,
             "tickcolor": "rgb(36,36,36)",
             "ticks": "outside"
            },
            "colorscale": [
             [
              0,
              "#440154"
             ],
             [
              0.1111111111111111,
              "#482878"
             ],
             [
              0.2222222222222222,
              "#3e4989"
             ],
             [
              0.3333333333333333,
              "#31688e"
             ],
             [
              0.4444444444444444,
              "#26828e"
             ],
             [
              0.5555555555555556,
              "#1f9e89"
             ],
             [
              0.6666666666666666,
              "#35b779"
             ],
             [
              0.7777777777777778,
              "#6ece58"
             ],
             [
              0.8888888888888888,
              "#b5de2b"
             ],
             [
              1,
              "#fde725"
             ]
            ],
            "type": "histogram2d"
           }
          ],
          "histogram2dcontour": [
           {
            "colorbar": {
             "outlinewidth": 1,
             "tickcolor": "rgb(36,36,36)",
             "ticks": "outside"
            },
            "colorscale": [
             [
              0,
              "#440154"
             ],
             [
              0.1111111111111111,
              "#482878"
             ],
             [
              0.2222222222222222,
              "#3e4989"
             ],
             [
              0.3333333333333333,
              "#31688e"
             ],
             [
              0.4444444444444444,
              "#26828e"
             ],
             [
              0.5555555555555556,
              "#1f9e89"
             ],
             [
              0.6666666666666666,
              "#35b779"
             ],
             [
              0.7777777777777778,
              "#6ece58"
             ],
             [
              0.8888888888888888,
              "#b5de2b"
             ],
             [
              1,
              "#fde725"
             ]
            ],
            "type": "histogram2dcontour"
           }
          ],
          "mesh3d": [
           {
            "colorbar": {
             "outlinewidth": 1,
             "tickcolor": "rgb(36,36,36)",
             "ticks": "outside"
            },
            "type": "mesh3d"
           }
          ],
          "parcoords": [
           {
            "line": {
             "colorbar": {
              "outlinewidth": 1,
              "tickcolor": "rgb(36,36,36)",
              "ticks": "outside"
             }
            },
            "type": "parcoords"
           }
          ],
          "pie": [
           {
            "automargin": true,
            "type": "pie"
           }
          ],
          "scatter": [
           {
            "marker": {
             "colorbar": {
              "outlinewidth": 1,
              "tickcolor": "rgb(36,36,36)",
              "ticks": "outside"
             }
            },
            "type": "scatter"
           }
          ],
          "scatter3d": [
           {
            "line": {
             "colorbar": {
              "outlinewidth": 1,
              "tickcolor": "rgb(36,36,36)",
              "ticks": "outside"
             }
            },
            "marker": {
             "colorbar": {
              "outlinewidth": 1,
              "tickcolor": "rgb(36,36,36)",
              "ticks": "outside"
             }
            },
            "type": "scatter3d"
           }
          ],
          "scattercarpet": [
           {
            "marker": {
             "colorbar": {
              "outlinewidth": 1,
              "tickcolor": "rgb(36,36,36)",
              "ticks": "outside"
             }
            },
            "type": "scattercarpet"
           }
          ],
          "scattergeo": [
           {
            "marker": {
             "colorbar": {
              "outlinewidth": 1,
              "tickcolor": "rgb(36,36,36)",
              "ticks": "outside"
             }
            },
            "type": "scattergeo"
           }
          ],
          "scattergl": [
           {
            "marker": {
             "colorbar": {
              "outlinewidth": 1,
              "tickcolor": "rgb(36,36,36)",
              "ticks": "outside"
             }
            },
            "type": "scattergl"
           }
          ],
          "scattermapbox": [
           {
            "marker": {
             "colorbar": {
              "outlinewidth": 1,
              "tickcolor": "rgb(36,36,36)",
              "ticks": "outside"
             }
            },
            "type": "scattermapbox"
           }
          ],
          "scatterpolar": [
           {
            "marker": {
             "colorbar": {
              "outlinewidth": 1,
              "tickcolor": "rgb(36,36,36)",
              "ticks": "outside"
             }
            },
            "type": "scatterpolar"
           }
          ],
          "scatterpolargl": [
           {
            "marker": {
             "colorbar": {
              "outlinewidth": 1,
              "tickcolor": "rgb(36,36,36)",
              "ticks": "outside"
             }
            },
            "type": "scatterpolargl"
           }
          ],
          "scatterternary": [
           {
            "marker": {
             "colorbar": {
              "outlinewidth": 1,
              "tickcolor": "rgb(36,36,36)",
              "ticks": "outside"
             }
            },
            "type": "scatterternary"
           }
          ],
          "surface": [
           {
            "colorbar": {
             "outlinewidth": 1,
             "tickcolor": "rgb(36,36,36)",
             "ticks": "outside"
            },
            "colorscale": [
             [
              0,
              "#440154"
             ],
             [
              0.1111111111111111,
              "#482878"
             ],
             [
              0.2222222222222222,
              "#3e4989"
             ],
             [
              0.3333333333333333,
              "#31688e"
             ],
             [
              0.4444444444444444,
              "#26828e"
             ],
             [
              0.5555555555555556,
              "#1f9e89"
             ],
             [
              0.6666666666666666,
              "#35b779"
             ],
             [
              0.7777777777777778,
              "#6ece58"
             ],
             [
              0.8888888888888888,
              "#b5de2b"
             ],
             [
              1,
              "#fde725"
             ]
            ],
            "type": "surface"
           }
          ],
          "table": [
           {
            "cells": {
             "fill": {
              "color": "rgb(237,237,237)"
             },
             "line": {
              "color": "white"
             }
            },
            "header": {
             "fill": {
              "color": "rgb(217,217,217)"
             },
             "line": {
              "color": "white"
             }
            },
            "type": "table"
           }
          ]
         },
         "layout": {
          "annotationdefaults": {
           "arrowhead": 0,
           "arrowwidth": 1
          },
          "autotypenumbers": "strict",
          "coloraxis": {
           "colorbar": {
            "outlinewidth": 1,
            "tickcolor": "rgb(36,36,36)",
            "ticks": "outside"
           }
          },
          "colorscale": {
           "diverging": [
            [
             0,
             "rgb(103,0,31)"
            ],
            [
             0.1,
             "rgb(178,24,43)"
            ],
            [
             0.2,
             "rgb(214,96,77)"
            ],
            [
             0.3,
             "rgb(244,165,130)"
            ],
            [
             0.4,
             "rgb(253,219,199)"
            ],
            [
             0.5,
             "rgb(247,247,247)"
            ],
            [
             0.6,
             "rgb(209,229,240)"
            ],
            [
             0.7,
             "rgb(146,197,222)"
            ],
            [
             0.8,
             "rgb(67,147,195)"
            ],
            [
             0.9,
             "rgb(33,102,172)"
            ],
            [
             1,
             "rgb(5,48,97)"
            ]
           ],
           "sequential": [
            [
             0,
             "#440154"
            ],
            [
             0.1111111111111111,
             "#482878"
            ],
            [
             0.2222222222222222,
             "#3e4989"
            ],
            [
             0.3333333333333333,
             "#31688e"
            ],
            [
             0.4444444444444444,
             "#26828e"
            ],
            [
             0.5555555555555556,
             "#1f9e89"
            ],
            [
             0.6666666666666666,
             "#35b779"
            ],
            [
             0.7777777777777778,
             "#6ece58"
            ],
            [
             0.8888888888888888,
             "#b5de2b"
            ],
            [
             1,
             "#fde725"
            ]
           ],
           "sequentialminus": [
            [
             0,
             "#440154"
            ],
            [
             0.1111111111111111,
             "#482878"
            ],
            [
             0.2222222222222222,
             "#3e4989"
            ],
            [
             0.3333333333333333,
             "#31688e"
            ],
            [
             0.4444444444444444,
             "#26828e"
            ],
            [
             0.5555555555555556,
             "#1f9e89"
            ],
            [
             0.6666666666666666,
             "#35b779"
            ],
            [
             0.7777777777777778,
             "#6ece58"
            ],
            [
             0.8888888888888888,
             "#b5de2b"
            ],
            [
             1,
             "#fde725"
            ]
           ]
          },
          "colorway": [
           "#1F77B4",
           "#FF7F0E",
           "#2CA02C",
           "#D62728",
           "#9467BD",
           "#8C564B",
           "#E377C2",
           "#7F7F7F",
           "#BCBD22",
           "#17BECF"
          ],
          "font": {
           "color": "rgb(36,36,36)"
          },
          "geo": {
           "bgcolor": "white",
           "lakecolor": "white",
           "landcolor": "white",
           "showlakes": true,
           "showland": true,
           "subunitcolor": "white"
          },
          "hoverlabel": {
           "align": "left"
          },
          "hovermode": "closest",
          "mapbox": {
           "style": "light"
          },
          "paper_bgcolor": "white",
          "plot_bgcolor": "white",
          "polar": {
           "angularaxis": {
            "gridcolor": "rgb(232,232,232)",
            "linecolor": "rgb(36,36,36)",
            "showgrid": false,
            "showline": true,
            "ticks": "outside"
           },
           "bgcolor": "white",
           "radialaxis": {
            "gridcolor": "rgb(232,232,232)",
            "linecolor": "rgb(36,36,36)",
            "showgrid": false,
            "showline": true,
            "ticks": "outside"
           }
          },
          "scene": {
           "xaxis": {
            "backgroundcolor": "white",
            "gridcolor": "rgb(232,232,232)",
            "gridwidth": 2,
            "linecolor": "rgb(36,36,36)",
            "showbackground": true,
            "showgrid": false,
            "showline": true,
            "ticks": "outside",
            "zeroline": false,
            "zerolinecolor": "rgb(36,36,36)"
           },
           "yaxis": {
            "backgroundcolor": "white",
            "gridcolor": "rgb(232,232,232)",
            "gridwidth": 2,
            "linecolor": "rgb(36,36,36)",
            "showbackground": true,
            "showgrid": false,
            "showline": true,
            "ticks": "outside",
            "zeroline": false,
            "zerolinecolor": "rgb(36,36,36)"
           },
           "zaxis": {
            "backgroundcolor": "white",
            "gridcolor": "rgb(232,232,232)",
            "gridwidth": 2,
            "linecolor": "rgb(36,36,36)",
            "showbackground": true,
            "showgrid": false,
            "showline": true,
            "ticks": "outside",
            "zeroline": false,
            "zerolinecolor": "rgb(36,36,36)"
           }
          },
          "shapedefaults": {
           "fillcolor": "black",
           "line": {
            "width": 0
           },
           "opacity": 0.3
          },
          "ternary": {
           "aaxis": {
            "gridcolor": "rgb(232,232,232)",
            "linecolor": "rgb(36,36,36)",
            "showgrid": false,
            "showline": true,
            "ticks": "outside"
           },
           "baxis": {
            "gridcolor": "rgb(232,232,232)",
            "linecolor": "rgb(36,36,36)",
            "showgrid": false,
            "showline": true,
            "ticks": "outside"
           },
           "bgcolor": "white",
           "caxis": {
            "gridcolor": "rgb(232,232,232)",
            "linecolor": "rgb(36,36,36)",
            "showgrid": false,
            "showline": true,
            "ticks": "outside"
           }
          },
          "title": {
           "x": 0.05
          },
          "xaxis": {
           "automargin": true,
           "gridcolor": "rgb(232,232,232)",
           "linecolor": "rgb(36,36,36)",
           "showgrid": false,
           "showline": true,
           "ticks": "outside",
           "title": {
            "standoff": 15
           },
           "zeroline": false,
           "zerolinecolor": "rgb(36,36,36)"
          },
          "yaxis": {
           "automargin": true,
           "gridcolor": "rgb(232,232,232)",
           "linecolor": "rgb(36,36,36)",
           "showgrid": false,
           "showline": true,
           "ticks": "outside",
           "title": {
            "standoff": 15
           },
           "zeroline": false,
           "zerolinecolor": "rgb(36,36,36)"
          }
         }
        },
        "title": {
         "text": "Detector Cooling Chain Test, Date:09/25/2022, 12:40:14 ",
         "x": 0.5,
         "xanchor": "center",
         "y": 0.95,
         "yanchor": "top"
        },
        "width": 1000,
        "xaxis": {
         "anchor": "y",
         "domain": [
          0,
          1
         ],
         "mirror": true,
         "rangeselector": {
          "buttons": [
           {
            "count": 15,
            "label": "15 mins",
            "step": "minute",
            "stepmode": "backward"
           },
           {
            "count": 1,
            "label": "1 hour",
            "step": "hour",
            "stepmode": "backward"
           },
           {
            "count": 5,
            "label": "5 hours",
            "step": "hour",
            "stepmode": "backward"
           },
           {
            "count": 10,
            "label": "10 hours",
            "step": "hour",
            "stepmode": "backward"
           },
           {
            "step": "all"
           }
          ]
         },
         "rangeslider": {
          "bordercolor": "grey",
          "borderwidth": 1,
          "visible": true
         },
         "showgrid": true,
         "showspikes": true,
         "spikethickness": 1,
         "tickcolor": "grey",
         "ticklen": 10,
         "ticks": "outside",
         "tickwidth": 1.5,
         "title": {
          "text": "Time (MST)"
         },
         "type": "date"
        },
        "yaxis": {
         "anchor": "x",
         "domain": [
          0,
          1
         ],
         "dtick": 25,
         "mirror": true,
         "range": [
          100,
          300
         ],
         "showgrid": true,
         "showspikes": true,
         "spikethickness": 1,
         "tickcolor": "grey",
         "ticklen": 10,
         "tickmode": "linear",
         "ticks": "outside",
         "tickwidth": 1.5,
         "title": {
          "text": "Temperature (K)"
         }
        }
       }
      }
     },
     "metadata": {},
     "output_type": "display_data"
    },
    {
     "name": "stdout",
     "output_type": "stream",
     "text": [
      "connection successful\n",
      "Connected\n",
      "Connection stopped\n"
     ]
    },
    {
     "ename": "KeyboardInterrupt",
     "evalue": "",
     "output_type": "error",
     "traceback": [
      "\u001b[1;31m---------------------------------------------------------------------------\u001b[0m",
      "\u001b[1;31mKeyboardInterrupt\u001b[0m                         Traceback (most recent call last)",
      "\u001b[1;32m~\\AppData\\Local\\Temp/ipykernel_10084/204264531.py\u001b[0m in \u001b[0;36m<module>\u001b[1;34m\u001b[0m\n\u001b[0;32m     74\u001b[0m         \u001b[0mdf_cryo\u001b[0m\u001b[1;33m.\u001b[0m\u001b[0mto_csv\u001b[0m\u001b[1;33m(\u001b[0m\u001b[0mcryo_path\u001b[0m\u001b[1;33m)\u001b[0m\u001b[1;33m\u001b[0m\u001b[1;33m\u001b[0m\u001b[0m\n\u001b[0;32m     75\u001b[0m         \u001b[0mdf_read_lakeshore\u001b[0m\u001b[1;33m.\u001b[0m\u001b[0mto_csv\u001b[0m\u001b[1;33m(\u001b[0m\u001b[0mlakeshore_path\u001b[0m\u001b[1;33m)\u001b[0m\u001b[1;33m\u001b[0m\u001b[1;33m\u001b[0m\u001b[0m\n\u001b[1;32m---> 76\u001b[1;33m         \u001b[0msleep\u001b[0m\u001b[1;33m(\u001b[0m\u001b[1;36m60\u001b[0m\u001b[1;33m)\u001b[0m\u001b[1;33m\u001b[0m\u001b[1;33m\u001b[0m\u001b[0m\n\u001b[0m\u001b[0;32m     77\u001b[0m         \u001b[1;31m#clear_output(wait=True)\u001b[0m\u001b[1;33m\u001b[0m\u001b[1;33m\u001b[0m\u001b[1;33m\u001b[0m\u001b[0m\n\u001b[0;32m     78\u001b[0m \u001b[1;33m\u001b[0m\u001b[0m\n",
      "\u001b[1;31mKeyboardInterrupt\u001b[0m: "
     ]
    }
   ],
   "source": [
    "cryo_port='COM7'\n",
    "import datetime \n",
    "from datetime import timedelta\n",
    "\n",
    "today=datetime.datetime.now()\n",
    "# filename_base=today.strftime(\"%m_%d_%Y\")+'_1'\n",
    "\n",
    "from IPython.display import clear_output\n",
    "# import datetime\n",
    "import pandas as pd\n",
    "import time \n",
    "Restart=0#Raise flag if the logging is being restarted and the data in the exisiting dataframe must not be re written\n",
    "\n",
    "# cooling =True\n",
    "Sensor_map={'LSA':'LS Input A: EMCCD Detector',\n",
    "            'LSB':'LS Input B: Cold Finger 1',\n",
    "            'LSC':'LS Input C: Cold Finger 2',\n",
    "            'LSD':'LS Input D: Vapour Shroud',\n",
    "            'Cryo':'Cryo Cold Tip'\n",
    "            }\n",
    "\n",
    "Color_map={'LSA':px.colors.qualitative.Safe[0], \n",
    "            'LSB':px.colors.qualitative.Safe[1],\n",
    "            'LSC':px.colors.qualitative.Safe[2],\n",
    "            'LSD':px.colors.qualitative.Safe[3],\n",
    "            'Cryo':px.colors.qualitative.Safe[4]\n",
    "            }\n",
    "\n",
    "if Restart==0: #if the logging is not being restarted .\n",
    "    #Get Lakeshore temperature data for the first time\n",
    "    filename_base=today.strftime(\"%m_%d_%Y\")\n",
    "    myinstrument.device_serial.open()\n",
    "    df_read_lakeshore=pd.DataFrame(get_temp_data())\n",
    "    myinstrument.device_serial.close()    \n",
    "    #Get cryo temperature data for the first time\n",
    "    ser0=start_connection(cryo_port)\n",
    "    df_cryo = cryo_temp_single_read(ser0)\n",
    "    stop_connection(ser0)\n",
    "\n",
    "start_time=datetime.datetime.now()\n",
    "cryo_path=f\"Cryocooler_Templog_{filename_base}.csv\"\n",
    "lakeshore_path=f\"Lakeshore_Templog_{filename_base}.csv\"\n",
    "webpath =f\"Exp_Templog_{filename_base}.html\"\n",
    "# Use this function to search for any files which match your filename\n",
    "files_present = glob.glob(cryo_path)+glob.glob(lakeshore_path)\n",
    "# if no matching files, write to csv, if there are matching files, print statement\n",
    "if files_present:\n",
    "       df_cryo=pd.read_csv(cryo_path)\n",
    "       df_read_lakeshore=pd.read_csv(lakeshore_path)\n",
    "\n",
    "log_duration = 24*60*60 #seconds\n",
    "log_step=1 #seconds \n",
    "time_check_state=start_time\n",
    "\n",
    "while datetime.datetime.now()-start_time<timedelta(seconds=log_duration):\n",
    "    # print(\"its true\")\n",
    "    timer_save_data=datetime.datetime.now()\n",
    "    timer_plot_data=timer_save_data\n",
    "    \n",
    "    while datetime.datetime.now()-timer_save_data<timedelta(seconds=60):\n",
    "            \n",
    "        myinstrument=lakeshore_initialize()\n",
    "        dftemp=pd.DataFrame(get_temp_data())\n",
    "        myinstrument.device_serial.close() \n",
    "        \n",
    "        \n",
    "        ser0=start_connection(cryo_port)\n",
    "        dftemp_cryo=cryo_temp_single_read(ser0)\n",
    "        stop_connection(ser0)\n",
    "\n",
    "        df_read_lakeshore=df_read_lakeshore.append(dftemp,ignore_index = True)\n",
    "        df_cryo=df_cryo.append(dftemp_cryo,ignore_index = True)\n",
    "        #display(df[-5:])\n",
    "        df_cryo.to_csv(cryo_path)\n",
    "        df_read_lakeshore.to_csv(lakeshore_path)\n",
    "        sleep(60)\n",
    "        #clear_output(wait=True)    \n",
    "       \n",
    "    if datetime.datetime.now()-timer_plot_data>timedelta(seconds=60):\n",
    "        clear_output(wait=True)\n",
    "        df_read_cryo=pd.read_csv(cryo_path)\n",
    "        df_read_lakeshore=pd.read_csv(lakeshore_path)\n",
    "        # df=df.append(df_read_lakeshore,ignore_index=True)\n",
    "\n",
    "    fig = plotly.subplots.make_subplots(rows=1, cols=1, vertical_spacing=0.1)\n",
    "    fig['layout']['margin'] = {'l': 40, 'r': 20, 'b': 40, 't': 100}\n",
    "    # fig['layout']['legend'] = {'x': 0, 'y': -0.25, 'xanchor': 'left','orientation':\"h\"}\n",
    "\n",
    "    fig.append_trace({\n",
    "        'x': df_read_lakeshore.time,\n",
    "        'y': df_read_lakeshore.tempA_log,\n",
    "        'name': f\"{Sensor_map['LSA']} @ {np.round(df_read_lakeshore.tempA_log.values[-1],3)} K\",\n",
    "        'type': 'scatter',\n",
    "        'legendgroup' : 1, \n",
    "        'line':dict(color=Color_map['LSA']),\n",
    "        'hovertemplate':\n",
    "            f\"<b>{Sensor_map['LSA']}</b><br><br>\" +\n",
    "            \"Temperature: %{y} K<br>\" +\n",
    "            \"Time: %{x}<br>\" +\n",
    "            \"<extra></extra>\",\n",
    "    }, 1, 1)\n",
    "\n",
    "    fig.append_trace({\n",
    "        'x': df_read_lakeshore.time,\n",
    "        'y': df_read_lakeshore.tempB_log,\n",
    "        'name': f\"{Sensor_map['LSB']} @ {np.round(df_read_lakeshore.tempB_log.values[-1],3)} K\",\n",
    "        'type': 'scatter',\n",
    "        'line':dict(color=Color_map['LSB']),  \n",
    "        'legendgroup' : 1,\n",
    "        'hovertemplate':\n",
    "            f\"<b>{Sensor_map['LSB']}</b><br><br>\" +\n",
    "            \"Temperature: %{y} K<br>\" +\n",
    "            \"Time: %{x}<br>\" +\n",
    "            \"<extra></extra>\",    \n",
    "\n",
    "    }, 1, 1)\n",
    "\n",
    "    fig.append_trace({\n",
    "        'x': df_read_lakeshore.time,\n",
    "        'y': df_read_lakeshore.tempC_log,\n",
    "        'name': f\"{Sensor_map['LSC']} @ {np.round(df_read_lakeshore.tempC_log.values[-1],3)} K\",\n",
    "        'type': 'scatter',\n",
    "        'legendgroup' : 2,\n",
    "        'line':dict(color=Color_map['LSC']),\n",
    "        'hovertemplate':\n",
    "            f\"<b>{Sensor_map['LSC']}</b><br><br>\" +\n",
    "            \"Temperature: %{y} K<br>\" +\n",
    "            \"Time: %{x}<br>\" +\n",
    "            \"<extra></extra>\",  \n",
    "    }, 1, 1)\n",
    "\n",
    "    fig.append_trace({\n",
    "        'x': df_read_lakeshore.time,\n",
    "        'y': df_read_lakeshore.tempD_log,\n",
    "        'name': f\"{Sensor_map['LSD']} @ {np.round(df_read_lakeshore.tempD_log.values[-1],3)} K\",\n",
    "        'type': 'scatter',\n",
    "        'legendgroup' : 2,\n",
    "        'line':dict(color=Color_map['LSD']),\n",
    "        'hovertemplate':\n",
    "            f\"<b>{Sensor_map['LSD']}</b><br><br>\" +\n",
    "            \"Temperature: %{y} K<br>\" +\n",
    "            \"Time: %{x}<br>\" +\n",
    "            \"<extra></extra>\",\n",
    "    }, 1, 1)\n",
    "\n",
    "    fig.append_trace({\n",
    "        'x': df_read_cryo.time,\n",
    "        'y': df_read_cryo.cryo_temp,\n",
    "        'name': f\"{Sensor_map['Cryo']} @ {np.round(df_read_cryo.cryo_temp.values[-1],3)} K\",\n",
    "        'type': 'scatter',\n",
    "        'legendgroup' : 3,\n",
    "        'line':dict(color=Color_map['Cryo']),\n",
    "        'hovertemplate':\n",
    "            f\"<b>{Sensor_map['Cryo']}</b><br><br>\" +\n",
    "            \"Temperature: %{y} K<br>\" +\n",
    "            \"Time: %{x}<br>\" +\n",
    "            \"<extra></extra>\",\n",
    "    }, 1, 1)\n",
    "    fig.update_layout(width=1000,height=800)\n",
    "    xmin=100\n",
    "    xmax=300\n",
    "    fig.update_yaxes(range=[xmin,xmax],row=1,col=1)\n",
    "\n",
    "    t0=datetime.datetime.strptime(df_read_lakeshore.time[0],\"%Y-%m-%d %H:%M:%S.%f\")\n",
    "    tstring=t0.strftime(\"%m/%d/%Y, %H:%M:%S\")\n",
    "    fig.update_layout(\n",
    "        title={\n",
    "            'text':f\"Detector Cooling Chain Test, Date:{tstring} \",\n",
    "            'y':0.95,\n",
    "            'x':0.5,\n",
    "            'xanchor': 'center',\n",
    "            'yanchor': 'top'},\n",
    "        \n",
    "        yaxis_title = 'Temperature (K)',\n",
    "        xaxis_title='Time (MST)'\n",
    "\n",
    "        )\n",
    "\n",
    "    fig.layout.template='simple_white'\n",
    "    fig.update_xaxes(showgrid=True,mirror=True)\n",
    "    fig.update_yaxes(showgrid=True,mirror=True)\n",
    "    fig.update_layout(legend=dict(  \n",
    "                                    #title=r\"Sensor lables (Click to toggle visiblity)<br>\",\n",
    "                                    groupclick=\"toggleitem\",\n",
    "                                    orientation=\"h\",\n",
    "                                    yanchor=\"top\",\n",
    "                                    y=-0.5,\n",
    "                                    xanchor=\"left\",\n",
    "                                    x=0.0\n",
    "                                )\n",
    "                    )\n",
    "    fig.update_xaxes(ticks=\"outside\", tickwidth=1.5, tickcolor='grey', ticklen=10)\n",
    "    fig.update_yaxes(ticks=\"outside\", tickwidth=1.5, tickcolor='grey', ticklen=10)\n",
    "    fig.update_layout(\n",
    "        xaxis=dict(\n",
    "            rangeselector=dict(\n",
    "                buttons=list([\n",
    "                    dict(count=15,\n",
    "                        label=\"15 mins\",\n",
    "                        step=\"minute\",\n",
    "                        stepmode=\"backward\"),\n",
    "                    dict(count=1,\n",
    "                        label=\"1 hour\",\n",
    "                        step=\"hour\",\n",
    "                        stepmode=\"backward\"),\n",
    "                    dict(count=5,\n",
    "                        label=\"5 hours\",\n",
    "                        step=\"hour\",\n",
    "                        stepmode=\"backward\"),\n",
    "                    dict(count=10,\n",
    "                        label=\"10 hours\",\n",
    "                        step=\"hour\",\n",
    "                        stepmode=\"backward\"),\n",
    "                    dict(step=\"all\")\n",
    "                ])\n",
    "            ),\n",
    "            rangeslider=dict(\n",
    "                visible=True\n",
    "            ),\n",
    "            type=\"date\"\n",
    "        )\n",
    "    )\n",
    "    fig.update_xaxes(rangeslider_bordercolor='grey',rangeslider_borderwidth=1)\n",
    "    fig.update_xaxes(showspikes=True,spikethickness=1)\n",
    "    fig.update_yaxes(showspikes=True,spikethickness=1)\n",
    "    fig.update_layout(\n",
    "        yaxis = dict(\n",
    "            tickmode = 'linear',\n",
    "            dtick = 25\n",
    "        ))\n",
    "    fig.show()\n",
    "    tsave=t0.strftime(\"%m%d%Y\")\n",
    "    fig.write_html(f\"Detector_cooling_test_{tsave}.html\")\n",
    "    fig.write_image(f\"Detector_cooling_test_{tsave}.png\")"
   ]
  },
  {
   "cell_type": "code",
   "execution_count": null,
   "metadata": {},
   "outputs": [],
   "source": [
    "# from IPython.display import clear_output\n",
    "# # import datetime\n",
    "# import pandas as pd\n",
    "# import time \n",
    "\n",
    "# today=datetime.now()\n",
    "# filename_base=today.strftime(\"%m_%d_%Y\")\n",
    "# cryo_path=f\"Exp_Cryocooler_Templog_{filename_base}.csv\"\n",
    "# lakeshore_path=f\"Exp_Lakeshore_Templog_{filename_base}.csv\"\n",
    "# html_path=f\"Exp_Templog_{filename_base}.html\"\n",
    "\n",
    "# Restart=1 #Raise flag if the logging is being restarted and the data in the exisiting dataframe must not be re written\n",
    "# Sensor_map={'LSA':'LS Input A: EMCCD Detector',\n",
    "#             'LSB':'LS Input B: Cold Finger 1',\n",
    "#             'LSC':'LS Input C: Cold Finger 2',\n",
    "#             'LSD':'LS Input D: Vapour Shroud',\n",
    "#             'Cryo':'Cryo Cold Tip'\n",
    "#             }\n",
    "\n",
    "# if Restart==0: #if the logging is not being restarted .\n",
    "\n",
    "#     #Get Lakeshore temperature data for the first time\n",
    "#     myinstrument.device_serial.open()\n",
    "#     df=pd.DataFrame(get_temp_data())\n",
    "#     myinstrument.device_serial.close()    \n",
    "#     #Get cryo temperature data for the first time\n",
    "#     ser0=start_connection(cryo_port)\n",
    "#     df_cryo = cryo_temp_single_read(ser0)\n",
    "#     stop_connection(ser0)\n",
    "\n",
    "    \n",
    "    \n",
    "\n",
    "# ser0=start_connection(cryo_port)\n",
    "# current_temp_cryo=get_temperature(ser0)['cryo_temp']\n",
    "# stop_connection(ser0)\n",
    "# if current_temp_cryo<modeswitch_temperature:\n",
    "#     ser0=start_connection(cryo_port)\n",
    "#     set_target_temperature(coldtip_temperature)\n",
    "#     set_pid_mode(2)\n",
    "#     stop_connection(ser0)\n",
    "#     myinstrument.command(f'SETP 1,{cf1_temperature}')\n",
    "#     myinstrument.device_serial.close()    \n",
    "\n",
    "# start_time=datetime.now()\n",
    "\n",
    "# log_duration = 24*60*60 #seconds\n",
    "# log_step=1 #seconds \n",
    "    \n",
    "# while datetime.now()-start_time<timedelta(seconds=log_duration):\n",
    "#     # print(\"its true\")\n",
    "#     timer_save_data=datetime.now()\n",
    "#     timer_plot_data=timer_save_data\n",
    "#     while datetime.now()-timer_save_data<timedelta(seconds=60):\n",
    "            \n",
    "#         myinstrument=lakeshore_initialize()\n",
    "#         dftemp=pd.DataFrame(get_temp_data())\n",
    "#         myinstrument.device_serial.close() \n",
    "        \n",
    "        \n",
    "#         ser0=start_connection(cryo_port)\n",
    "#         dftemp_cryo=cryo_temp_single_read(ser0)\n",
    "#         stop_connection(ser0)\n",
    "\n",
    "#         df=df.append(dftemp,ignore_index = True)\n",
    "#         df_cryo=df_cryo.append(dftemp_cryo,ignore_index = True)\n",
    "#         #display(df[-5:])\n",
    "#         df_cryo.to_csv(cryo_path)\n",
    "#         df.to_csv(lakeshore_path)\n",
    "#         sleep(20)\n",
    "#         #clear_output(wait=True)\n",
    "        \n",
    "#     if datetime.now()-timer_plot_data>timedelta(seconds=60):\n",
    "#         clear_output(wait=True)\n",
    "#         df_read_cryo=pd.read_csv(cryo_path)\n",
    "#         df_read_lakeshore=pd.read_csv(lakeshore_path)\n",
    "#         # df=df.append(df_read_lakeshore,ignore_index=True)\n",
    "        \n",
    "#         fig = plotly.subplots.make_subplots(rows=3, cols=2, vertical_spacing=0.2)\n",
    "#         fig['layout']['margin'] = {'l': 30, 'r': 10, 'b': 30, 't': 100}\n",
    "#         fig['layout']['legend'] = {'x': 0, 'y': -0.25, 'xanchor': 'left','orientation':\"h\"}\n",
    "\n",
    "#         fig.append_trace({\n",
    "#             'x': df_read_lakeshore.time,\n",
    "#             'y': df_read_lakeshore.tempA_log,\n",
    "#             'name': Sensor_map['LSA'],\n",
    "#             'type': 'scatter'\n",
    "#         }, 1, 1)\n",
    "\n",
    "\n",
    "#         fig.append_trace({\n",
    "#             'x': df_read_lakeshore.time,\n",
    "#             'y': df_read_lakeshore.tempB_log,\n",
    "#             'name': Sensor_map['LSB'],\n",
    "#             'type': 'scatter'\n",
    "#         }, 1, 2)\n",
    "\n",
    "#         fig.append_trace({\n",
    "#             'x': df_read_lakeshore.time,\n",
    "#             'y': df_read_lakeshore.tempC_log,\n",
    "#             'name': Sensor_map['LSC'],\n",
    "#             'type': 'scatter'\n",
    "#         }, 2, 1)\n",
    "\n",
    "#         fig.append_trace({\n",
    "#             'x': df_read_lakeshore.time,\n",
    "#             'y': df_read_lakeshore.tempD_log,\n",
    "#             'name': Sensor_map['LSD'],\n",
    "#             'type': 'scatter'\n",
    "#         }, 2, 2)\n",
    "        \n",
    "#         fig.append_trace({\n",
    "#             'x': df_read_cryo.time,\n",
    "#             'y': df_read_cryo.cryo_temp,\n",
    "#             'name': Sensor_map['Cryo'],\n",
    "#             'type': 'scatter'\n",
    "#         }, 3, 1)\n",
    "#         # fig.update_layout(yaxis = dict(range=[77,300]))\n",
    "#         fig.update_layout(width=900,height=800)\n",
    "\n",
    "#         fig.update_yaxes(range=[70.0,300.0],row=1,col=1)\n",
    "#         fig.update_yaxes(range=[70,300],row=1,col=2)\n",
    "#         fig.update_yaxes(range=[70,300],row=2,col=1)\n",
    "#         fig.update_yaxes(range=[70,300],row=2,col=2)\n",
    "#         fig.update_yaxes(range=[70,300],row=3,col=1)\n",
    "        \n",
    "#         fig.update_layout(\n",
    "#             title={\n",
    "#                 'text':\"Detector cooling chain test: Temperature vs time\",\n",
    "#                 'y':0.95,\n",
    "#                 'x':0.5,\n",
    "#                 'xanchor': 'center',\n",
    "#                 'yanchor': 'top'})\n",
    "#         # fig.update_layout(xaxis_tickformat = '%H:%M')\n",
    "#         # fig.update_xaxes(ticks= \"outside\",\n",
    "#         #                  ticklabelmode= \"period\", \n",
    "#         #                  tickcolor= \"black\", \n",
    "#         #                  ticklen=10, \n",
    "#         #                  dtick=10,\n",
    "#         #                 #  minor=dict(\n",
    "#         #                 #      ticklen=4,  \n",
    "#         #                 #      dtick=7*24*60*60*1000,  \n",
    "#         #                 #      tick0=\"2016-07-03\", \n",
    "#         #                 #      griddash='dot', \n",
    "#         #                 #      gridcolor='white'),\n",
    "#         #                 row=1,col=1)\n",
    "#         fig.layout.template='simple_white'\n",
    "#         fig.show()\n",
    "#         fig.write_html(html_path)"
   ]
  },
  {
   "cell_type": "code",
   "execution_count": null,
   "metadata": {},
   "outputs": [],
   "source": [
    "myinstrument.device_serial.close() "
   ]
  },
  {
   "cell_type": "code",
   "execution_count": null,
   "metadata": {},
   "outputs": [],
   "source": [
    "myinstrument.device_serial.close() \n",
    "\n",
    "myinstrument.device_serial.open()\n",
    "get_temp_data()\n",
    "myinstrument.device_serial.close() \n",
    "myinstrument.device_serial.open()\n",
    "get_temp_data()"
   ]
  },
  {
   "cell_type": "code",
   "execution_count": null,
   "metadata": {},
   "outputs": [],
   "source": [
    "ser0=start_connection(cryo_port)"
   ]
  },
  {
   "cell_type": "markdown",
   "metadata": {},
   "source": []
  },
  {
   "cell_type": "code",
   "execution_count": null,
   "metadata": {},
   "outputs": [],
   "source": [
    "get_temperature(ser0)\n",
    "stop_connection(ser0)\n"
   ]
  },
  {
   "cell_type": "code",
   "execution_count": null,
   "metadata": {},
   "outputs": [],
   "source": [
    "ser0.close()"
   ]
  },
  {
   "cell_type": "code",
   "execution_count": null,
   "metadata": {},
   "outputs": [],
   "source": [
    "    # if datetime.now()-time_check_state>timedelta(seconds=60):\n",
    "    #     time_check_state=datetime.now()\n",
    "    #     if cooling==True: \n",
    "    #         ser0=start_connection(cryo_port)\n",
    "    #         current_temp_cryo=get_temperature(ser0)['cryo_temp']\n",
    "    #         stop_connection(ser0)\n",
    "    #         myinstrument.device_serial.open()\n",
    "    #         df_lakeshore=pd.DataFrame(get_temp_data())\n",
    "    #         myinstrument.device_serial.close() \n",
    "    #         if current_temp_cryo>cryo_temp_steps[0]:\n",
    "    #             if  current_temp_cryo<cryo_temp_switchover[0]:\n",
    "    #                 ser0=start_connection(cryo_port)\n",
    "    #                 set_target_temperature(cryo_temp_steps[0])\n",
    "    #                 set_pid_mode(2)\n",
    "    #                 stop_connection(ser0)\n",
    "    #             else: \n",
    "    #                 ser0=start_connection(cryo_port)\n",
    "    #                 set_target_power_output(30)\n",
    "    #                 set_pid_mode(0)\n",
    "    #                 stop_connection(ser0) \n",
    "    #         elif current_temp_cryo>cryo_temp_steps[1]:\n",
    "    #             if  current_temp_cryo<cryo_temp_switchover[1]:\n",
    "    #                 ser0=start_connection(cryo_port)\n",
    "    #                 set_target_temperature(cryo_temp_steps[1])\n",
    "    #                 set_pid_mode(2)\n",
    "    #                 stop_connection(ser0)\n",
    "    #             else: \n",
    "    #                 ser0=start_connection(cryo_port)\n",
    "    #                 set_target_power_output(30)\n",
    "    #                 set_pid_mode(0)\n",
    "    #                 stop_connection(ser0)\n",
    "    #                 myinstrument.device_serial.open()\n",
    "    #                 myinstrument.command(f'SETP 1,{cf1_temperature}')\n",
    "    #                 myinstrument.query(f'RANGE 1,5')\n",
    "    #                 myinstrument.device_serial.close()           \n",
    "    #         elif current_temp_cryo>cryo_temp_steps[2]:\n",
    "    #             if  current_temp_cryo<cryo_temp_switchover[2]:\n",
    "    #                 ser0=start_connection(cryo_port)\n",
    "    #                 set_target_temperature(cryo_temp_steps[2])\n",
    "    #                 set_pid_mode(2)\n",
    "    #                 stop_connection(ser0)\n",
    "    #     else: \n",
    "    #         ser0=start_connection(cryo_port)\n",
    "    #         set_soft_stop_state(1)\n",
    "    #         stop_connection(ser0)\n",
    "    #         myinstrument.device_serial.open()\n",
    "    #         myinstrument.command(f'SETP 1,285')\n",
    "    #         myinstrument.device_serial.close()\n",
    "    #         myinstrument.device_serial.open()\n",
    "    #         myinstrument.command(f'RANGE 1,5')\n",
    "    #         myinstrument.device_serial.close() "
   ]
  },
  {
   "cell_type": "code",
   "execution_count": null,
   "metadata": {},
   "outputs": [],
   "source": []
  }
 ],
 "metadata": {
  "kernelspec": {
   "display_name": "Python 3.8.3 ('base')",
   "language": "python",
   "name": "python3"
  },
  "language_info": {
   "codemirror_mode": {
    "name": "ipython",
    "version": 3
   },
   "file_extension": ".py",
   "mimetype": "text/x-python",
   "name": "python",
   "nbconvert_exporter": "python",
   "pygments_lexer": "ipython3",
   "version": "3.8.3"
  },
  "orig_nbformat": 4,
  "vscode": {
   "interpreter": {
    "hash": "21deaa066a5cca7544829d844c0b129615789037dcce8757ed04dc6f8044a133"
   }
  }
 },
 "nbformat": 4,
 "nbformat_minor": 2
}
