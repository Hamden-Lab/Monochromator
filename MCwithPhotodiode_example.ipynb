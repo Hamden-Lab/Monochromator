{
 "cells": [
  {
   "cell_type": "code",
   "execution_count": 7,
   "metadata": {},
   "outputs": [],
   "source": [
    "import time\n",
    "import pyvisa as visa\n",
    "import datetime\n",
    "import os\n",
    "import sys\n",
    "import codecs\n",
    "import codecs\n",
    "import pandas as pd\n",
    "import serial\n",
    "import serial.tools.list_ports\n",
    "import numpy as np\n",
    "from shutterapi import *\n",
    "import monochromatorapi as mcapi # Import monochromator api\n",
    "from picoapi import *\n",
    "import clr # Import the .NET class library\n",
    "import pixisapi as pixis"
   ]
  },
  {
   "cell_type": "code",
   "execution_count": 8,
   "metadata": {},
   "outputs": [
    {
     "name": "stdout",
     "output_type": "stream",
     "text": [
      "COM1: Communications Port (COM1) [ACPI\\PNP0501\\0]\n",
      "COM3: USB Serial Port (COM3) [USB VID:PID=0403:6001 SER=A6040W3ZA]\n",
      "COM4: USB Serial Port (COM4) [USB VID:PID=0403:6001 SER=A6040X2DA]\n",
      "COM5: USB Serial Port (COM5) [USB VID:PID=0403:6001 SER=A65893GGA]\n",
      "COM7: USB Serial Port (COM7) [USB VID:PID=0403:6001 SER=A67166PWA]\n"
     ]
    }
   ],
   "source": [
    "import serial.tools.list_ports\n",
    "ports = serial.tools.list_ports.comports()\n",
    "#readable port information\n",
    "portslist=[]\n",
    "for port, desc, hwid in sorted(ports):\n",
    "    portslist.append(\"{}: {} [{}]\".format(port, desc, hwid))\n",
    "    print(\"{}: {} [{}]\".format(port, desc, hwid))\n"
   ]
  },
  {
   "cell_type": "code",
   "execution_count": 20,
   "metadata": {},
   "outputs": [],
   "source": [
    "# #Scan infomration \n",
    "# start_wl=float(115.0) #nm\n",
    "# end_wl=float(700.0)#nm\n",
    "# wl_step=float(1) #nm \n",
    "# slitsize= 1000#micron\n",
    "# \"\"\"Remember to physically switch the lamp on the monochromator\"\"\"\n",
    "# Lamp='D2' #lamp switched to d2 on 10 AM 7/14/2022\n",
    "# filternum=1 \n",
    "# #File_save settings. \n",
    "# parent_directory=r'C:\\Users\\User\\Documents\\UV_Monochromator_Laptop\\UV-Monochromator-control-2'\n",
    "# exp_filenames_basename=f'Photodiode_Flip_Exp3_{Lamp}_slit_{slitsize}micron_Filter_{filternum}'\n",
    "# exp_folder_name=exp_filenames_basename+f'_{int(start_wl)}nmto{int(end_wl)}nm'\n",
    "# exp_filenames_basename_dark=exp_filenames_basename+'_dark'\n",
    "# exp_directory=picoa_set_folder(exp_folder_name,parent_directory)"
   ]
  },
  {
   "cell_type": "code",
   "execution_count": 14,
   "metadata": {},
   "outputs": [
    {
     "name": "stdout",
     "output_type": "stream",
     "text": [
      "samples will be taken in a 3.0 second exposure\n",
      "Sent *IDN?\n",
      "Received KEITHLEY INSTRUMENTS INC.,MODEL 6482,4446862,A02   Jan 18 2017 10:20:01/A02  /F\n",
      "KEITHLEY INSTRUMENTS INC.,MODEL 6482,4446862,A02   Jan 18 2017 10:20:01/A02  /F\n",
      "added to output queue\n",
      "Sent *RST\n",
      "Sent *OPC?\n",
      "Received 1\n",
      "Sent :SENS1:CURR:RANG:AUTO ON\n",
      "Sent :SENS1:CURR:RANG:AUTO:ULIM 0.01\n",
      "Sent :SENS1:CURR:RANG:AUTO:LLIM 1e-07\n",
      "Sent :SENS1:CURR:NPLC 10.0\n",
      "Sent :SOUR1:VOLT:RANGE:AUTO 1 \n",
      "Sent :SOUR1:VOLT 0\n",
      "Sent OUTP1 ON\n",
      "Sent :SENS2:CURR:RANG:AUTO ON\n",
      "Sent :SENS2:CURR:RANG:AUTO:ULIM 0.01\n",
      "Sent :SENS2:CURR:RANG:AUTO:LLIM 1e-07\n",
      "Sent :SENS2:CURR:NPLC 10.0\n",
      "Sent :SOUR2:VOLT:RANGE:AUTO 1 \n",
      "Sent :SOUR2:VOLT 0\n",
      "Sent OUTP2 ON\n",
      "home circuit enabled, prepared to home\n",
      "scanner is above home so moving down to home\n",
      "decreasing wavelength at 23KHz\n",
      "Limits status is:2\n",
      "Limits status is:34\n",
      "scan controller stopped\n",
      "decreasing wavelength for 3 revolutions\n",
      "increasing wavelength for 2 revolutions\n",
      "high accuracy circuit enabled\n",
      "finding edge of home flag at 4500KHz this will take about 15 seconds\n",
      "scan controller stopped\n",
      "disabled home circuit\n",
      "homing successful\n",
      "scan controller is moving for -516.0nm\n",
      "moving status: 33\n",
      "moving status: 33\n",
      "moving status: 33\n",
      "moving status: 33\n",
      "moving status: 33\n",
      "moving status: 33\n",
      "moving status: 33\n",
      "moving status: 33\n",
      "moving status: 33\n",
      "moving status: 33\n",
      "moving status: 33\n",
      "moving status: 33\n",
      "moving status: 33\n",
      "moving status: 33\n",
      "moving status: 33\n",
      "moving status: 33\n",
      "moving status: 33\n",
      "moving status: 33\n",
      "moving status: 33\n",
      "moving status: 33\n",
      "moving status: 33\n",
      "moving status: 33\n",
      "moving status: 33\n",
      "moving status: 33\n",
      "moving status: 33\n",
      "moving status: 33\n",
      "moving status: 33\n",
      "moving status: 33\n",
      "moving status: 33\n",
      "moving status: 33\n",
      "moving status: 33\n",
      "moving status: 33\n",
      "moving status: 33\n",
      "moving status: 33\n",
      "moving status: 33\n",
      "moving status: 33\n",
      "moving status: 33\n",
      "moving status: 33\n",
      "moving status: 33\n",
      "moving status: 33\n",
      "moving status: 33\n",
      "moving status: 33\n",
      "moving status: 33\n",
      "moving status: 33\n",
      "moving status: 33\n",
      "moving status: 33\n",
      "moving status: 33\n",
      "moving status: 33\n",
      "moving status: 33\n",
      "moving status: 33\n",
      "moving status: 33\n",
      "moving status: 33\n",
      "moving status: 33\n",
      "moving status: 33\n",
      "moving status: 0\n",
      "scan controller stopped\n",
      "Shutter closed\n",
      "Taking pre dark\n",
      "Taking data for 115.0\n",
      "Shutter opened\n",
      "Shutter closed\n",
      "Going to 116.0 nm\n",
      "Monochromator is at 115.0\n",
      "scan controller is moving for 1.0 nm\n",
      "Now at 116.0 nm\n",
      "Taking data for 116.0\n",
      "Shutter opened\n",
      "Shutter closed\n",
      "Going to 117.0 nm\n",
      "Monochromator is at 116.0\n",
      "scan controller is moving for 1.0 nm\n",
      "Now at 117.0 nm\n",
      "Taking data for 117.0\n",
      "Shutter opened\n",
      "Shutter closed\n",
      "Going to 118.0 nm\n",
      "Monochromator is at 117.0\n",
      "scan controller is moving for 1.0 nm\n",
      "Now at 118.0 nm\n",
      "Taking data for 118.0\n",
      "Shutter opened\n",
      "Shutter closed\n",
      "Going to 119.0 nm\n",
      "Monochromator is at 118.0\n",
      "scan controller is moving for 1.0 nm\n",
      "Now at 119.0 nm\n",
      "Taking data for 119.0\n",
      "Shutter opened\n",
      "Shutter closed\n",
      "Going to 120.0 nm\n",
      "Monochromator is at 119.0\n",
      "scan controller is moving for 1.0 nm\n",
      "Now at 120.0 nm\n",
      "Taking data for 120.0\n",
      "Shutter opened\n"
     ]
    }
   ],
   "source": [
    "# Ch1ON=1\n",
    "# Ch2ON=1\n",
    "# nsamples=30\n",
    "# interval=0.1\n",
    "# asrl=\"asrl5::instr\" #port for the picoammeter\n",
    "# # BP Picoameter settings\n",
    "\n",
    "# picoa=picoammeter_initialize(Ch1ON,Ch2ON,interval,nsamples,asrl,debug=False)\n",
    "# # BP Initialize Picoameter.\n",
    "\n",
    "# shutterport= 'COM3'\n",
    "# MCPort = 'COM4'\n",
    "\n",
    "# mcapi.go_to_from(MCPort, scan_wl)\n",
    "# shutclose(shutterport)\n",
    "\n",
    "# print(\"Taking pre dark\")\n",
    "# dark_filename=exp_folder_name+'\\\\'+exp_filenames_basename_dark+'_pre.csv'\n",
    "# data=picoa_get_measurement(picoa,dark_filename,interval,nsamples)\n",
    "# counter =int(1)\n",
    "\n",
    "# #Scanning between the start and the stop wavelengths \n",
    "# while current_wl<=end_wl:\n",
    "#     counter=counter+int(1) #counter for take dark for every 10 lamp exposures \n",
    "#     filename=exp_folder_name+'\\\\'+exp_filenames_basename+f'_wl_{current_wl}nm'+'.csv'\n",
    "#     print(f\"Taking data for {current_wl}\")\n",
    "#     shutopen(shutterport)\n",
    "#     data=picoa_get_measurement(picoa,filename,interval,nsamples)\n",
    "#     shutclose(shutterport)\n",
    "#     if counter==int(10): #taking dark for every 10 lamp exposures \n",
    "#         counter=int(1)\n",
    "#         dark_filename=exp_folder_name+'\\\\'+exp_filenames_basename_dark+f'_wl_{current_wl}nm'+'.csv'\n",
    "#         data=picoa_get_measurement(picoa,dark_filename,interval,nsamples)\n",
    "#         print(\"Taking wl dark\")\n",
    "#     print(f\"Going to {current_wl+wl_step} nm\")\n",
    "#     mcapi.go_to_from(MCPort,current_wl,float(current_wl+wl_step))\n",
    "#     current_wl=current_wl+wl_step\n",
    "# print(\"Taking post dark\")\n",
    "# dark_filename=exp_folder_name+'\\\\'+exp_filenames_basename_dark+'_post.csv'\n",
    "# data=picoa_get_measurement(picoa,dark_filename,interval,nsamples)\n",
    "# picoammeter_end(picoa)\n",
    "# print(f\"All data taken and stored in {exp_directory}\")\n",
    "# print(\"Monochromator is going home!\")\n",
    "# mcapi.home(MCPort)\n"
   ]
  },
  {
   "cell_type": "code",
   "execution_count": null,
   "metadata": {},
   "outputs": [],
   "source": []
  },
  {
   "cell_type": "code",
   "execution_count": null,
   "metadata": {},
   "outputs": [],
   "source": []
  },
  {
   "cell_type": "code",
   "execution_count": 5,
   "metadata": {},
   "outputs": [
    {
     "name": "stdout",
     "output_type": "stream",
     "text": [
      "samples will be taken in a 3.0 second exposure\n",
      "Sent *IDN?\n",
      "Received KEITHLEY INSTRUMENTS INC.,MODEL 6482,4446862,A02   Jan 18 2017 10:20:01/A02  /F\n",
      "KEITHLEY INSTRUMENTS INC.,MODEL 6482,4446862,A02   Jan 18 2017 10:20:01/A02  /F\n",
      "added to output queue\n",
      "Sent *RST\n",
      "Sent *OPC?\n",
      "Received 1\n",
      "Sent :SENS1:CURR:RANG:AUTO ON\n",
      "Sent :SENS1:CURR:RANG:AUTO:ULIM 2.1e-08\n",
      "Sent :SENS1:CURR:RANG:AUTO:LLIM 2e-09\n",
      "Sent :SENS1:CURR:NPLC 10.0\n",
      "Sent :SOUR1:VOLT:RANGE:AUTO 1 \n",
      "Sent :SOUR1:VOLT 0\n",
      "Sent OUTP1 ON\n",
      "Sent :SENS2:CURR:RANG:AUTO ON\n",
      "Sent :SENS2:CURR:RANG:AUTO:ULIM 2.1e-08\n",
      "Sent :SENS2:CURR:RANG:AUTO:LLIM 2e-09\n",
      "Sent :SENS2:CURR:NPLC 10.0\n",
      "Sent :SOUR2:VOLT:RANGE:AUTO 1 \n",
      "Sent :SOUR2:VOLT 0\n",
      "Sent OUTP2 ON\n"
     ]
    }
   ],
   "source": [
    "Ch1ON=1\n",
    "Ch2ON=1\n",
    "nsamples=30\n",
    "interval=0.1\n",
    "asrl=\"asrl5::instr\" #port for the picoammeter\n",
    "# BP Picoameter settings\n",
    "\n",
    "picoa=picoammeter_initialize(Ch1ON,Ch2ON,interval,nsamples,asrl,debug=False)\n",
    "# BP Initialize Picoameter.\n",
    "\n",
    "MCPort = 'COM4'"
   ]
  },
  {
   "cell_type": "code",
   "execution_count": 44,
   "metadata": {},
   "outputs": [
    {
     "name": "stdout",
     "output_type": "stream",
     "text": [
      "Monochromator is at 700\n",
      "scan controller is moving for 100 nm\n",
      "moving status: 33\n",
      "moving status: 33\n",
      "moving status: 33\n",
      "moving status: 33\n",
      "moving status: 33\n",
      "moving status: 33\n",
      "moving status: 33\n",
      "moving status: 33\n",
      "moving status: 33\n",
      "moving status: 33\n",
      "moving status: 33\n",
      "moving status: 33\n",
      "moving status: 33\n",
      "moving status: 33\n",
      "moving status: 33\n",
      "moving status: 0\n",
      "scan controller stopped\n"
     ]
    },
    {
     "data": {
      "text/plain": [
       "'Movement completed'"
      ]
     },
     "execution_count": 44,
     "metadata": {},
     "output_type": "execute_result"
    }
   ],
   "source": [
    "scan_wl = 800\n",
    "# mcapi.go_to_fromhome(MCPort, scan_wl)\n",
    "mcapi.go_to_from(MCPort, scan_wl-100, scan_wl)"
   ]
  },
  {
   "cell_type": "code",
   "execution_count": 45,
   "metadata": {},
   "outputs": [],
   "source": [
    "data=picoa_get_measurement(picoa,'D:/Sophia/Test/qe_{:.0f}.csv'.format(scan_wl),interval,nsamples)"
   ]
  },
  {
   "cell_type": "code",
   "execution_count": null,
   "metadata": {},
   "outputs": [],
   "source": [
    "pixis.pixis_take_bias_frames(n_bias)"
   ]
  },
  {
   "cell_type": "code",
   "execution_count": 6,
   "metadata": {},
   "outputs": [
    {
     "name": "stdout",
     "output_type": "stream",
     "text": [
      "home circuit enabled, prepared to home\n",
      "scanner is below home so moving up to home\n",
      "increasing wavelength at a rate of 23KHz\n",
      "Limits status is:34\n",
      "Limits status is:34\n",
      "Limits status is:34\n",
      "Limits status is:2\n",
      "scan controller stopped\n",
      "decrease wavelength for 3 revolutions\n",
      "increase wavelength for 2 revolutions\n",
      "high accuracy circuit enabled\n",
      "finding edge of home flag at 4500KHz, this will take about 12 seconds\n",
      "scan controller stopped\n",
      "homing movement successful\n",
      "disabled home circuit\n",
      "homing successful\n"
     ]
    }
   ],
   "source": [
    "mcapi.home(MCPort)"
   ]
  }
 ],
 "metadata": {
  "kernelspec": {
   "display_name": "Python 3.6.9 64-bit",
   "language": "python",
   "name": "python3"
  },
  "language_info": {
   "codemirror_mode": {
    "name": "ipython",
    "version": 3
   },
   "file_extension": ".py",
   "mimetype": "text/x-python",
   "name": "python",
   "nbconvert_exporter": "python",
   "pygments_lexer": "ipython3",
   "version": "3.11.7"
  },
  "orig_nbformat": 4,
  "vscode": {
   "interpreter": {
    "hash": "31f2aee4e71d21fbe5cf8b01ff0e069b9275f58929596ceb00d14d90e3e16cd6"
   }
  }
 },
 "nbformat": 4,
 "nbformat_minor": 2
}
