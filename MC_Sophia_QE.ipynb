{
 "cells": [
  {
   "cell_type": "markdown",
   "metadata": {},
   "source": [
    "Welcome to the example code to use PIXIS camera with the Monochromator. \n",
    "We first being with importing relevant python pachanges and the API for the PIXIS Camera: "
   ]
  },
  {
   "cell_type": "code",
   "execution_count": 2,
   "metadata": {},
   "outputs": [
    {
     "name": "stdout",
     "output_type": "stream",
     "text": [
      "samples will be taken in a 3.0 second exposure\n",
      "Sent *IDN?\n",
      "Received KEITHLEY INSTRUMENTS INC.,MODEL 6482,4446862,A02   Jan 18 2017 10:20:01/A02  /F\n",
      "KEITHLEY INSTRUMENTS INC.,MODEL 6482,4446862,A02   Jan 18 2017 10:20:01/A02  /F\n",
      "added to output queue\n",
      "Sent *RST\n",
      "Sent *OPC?\n",
      "Received 1\n",
      "Sent :SENS1:CURR:RANG:AUTO ON\n",
      "Sent :SENS1:CURR:RANG:AUTO:ULIM 2.1e-08\n",
      "Sent :SENS1:CURR:RANG:AUTO:LLIM 2e-09\n",
      "Sent :SENS1:CURR:NPLC 10.0\n",
      "Sent :SOUR1:VOLT:RANGE:AUTO 1 \n",
      "Sent :SOUR1:VOLT 0\n",
      "Sent OUTP1 ON\n",
      "Sent :SENS2:CURR:RANG:AUTO ON\n",
      "Sent :SENS2:CURR:RANG:AUTO:ULIM 2.1e-08\n",
      "Sent :SENS2:CURR:RANG:AUTO:LLIM 2e-09\n",
      "Sent :SENS2:CURR:NPLC 10.0\n",
      "Sent :SOUR2:VOLT:RANGE:AUTO 1 \n",
      "Sent :SOUR2:VOLT 0\n",
      "Sent OUTP2 ON\n"
     ]
    }
   ],
   "source": [
    "import pandas as pd\n",
    "import numpy as np\n",
    "import monochromatorapi as mcapi # Import monochromator api\n",
    "from sophiaapi import *\n",
    "from picoapi import *\n",
    "\n",
    "folder = '20240626'\n",
    "\n",
    "MCPort = 'COM4'\n",
    "ShutPort = 'COM6'\n",
    "\n",
    "Ch1ON=1\n",
    "Ch2ON=1\n",
    "nsamples=30\n",
    "interval=0.1\n",
    "asrl=\"asrl5::instr\" #port for the picoammeter\n",
    "# BP Picoameter settings\n",
    "\n",
    "picoa=picoammeter_initialize(Ch1ON,Ch2ON,interval,nsamples,asrl,debug=False)\n",
    "# BP Initialize Picoameter."
   ]
  },
  {
   "cell_type": "code",
   "execution_count": 3,
   "metadata": {},
   "outputs": [
    {
     "name": "stdout",
     "output_type": "stream",
     "text": [
      "Connection successful\n",
      "SOPHIA is ready\n"
     ]
    }
   ],
   "source": [
    "experiment_sophia = 'SOPHIA_MC'\n",
    "status, auto, experiment = pixis_load_experiment(experiment_sophia)\n",
    "\n",
    "if status==True: \n",
    "    print(\"SOPHIA is ready\")"
   ]
  },
  {
   "cell_type": "code",
   "execution_count": 3,
   "metadata": {},
   "outputs": [
    {
     "ename": "KeyboardInterrupt",
     "evalue": "",
     "output_type": "error",
     "traceback": [
      "\u001b[1;31m---------------------------------------------------------------------------\u001b[0m",
      "\u001b[1;31mKeyboardInterrupt\u001b[0m                         Traceback (most recent call last)",
      "Cell \u001b[1;32mIn[3], line 1\u001b[0m\n\u001b[1;32m----> 1\u001b[0m pixis_set_temperature(\u001b[38;5;241m-\u001b[39m\u001b[38;5;241m35.0\u001b[39m)\n",
      "File \u001b[1;32md:\\GitHub\\Monochromator\\sophiaapi.py:231\u001b[0m, in \u001b[0;36mpixis_set_temperature\u001b[1;34m(temperature)\u001b[0m\n\u001b[0;32m    229\u001b[0m \u001b[38;5;28;01mif\u001b[39;00m (experiment\u001b[38;5;241m.\u001b[39mIsReadyToRun \u001b[38;5;241m&\u001b[39m experiment\u001b[38;5;241m.\u001b[39mIsRunning\u001b[38;5;241m==\u001b[39m\u001b[38;5;28;01mFalse\u001b[39;00m): \u001b[38;5;66;03m#checks if experiment is loaded and ready to set temperature low for the detector\u001b[39;00m\n\u001b[0;32m    230\u001b[0m     experiment\u001b[38;5;241m.\u001b[39mSetValue(CameraSettings\u001b[38;5;241m.\u001b[39mSensorTemperatureSetPoint,temperature)    \n\u001b[1;32m--> 231\u001b[0m     time\u001b[38;5;241m.\u001b[39msleep(\u001b[38;5;241m5\u001b[39m)\n\u001b[0;32m    232\u001b[0m     \u001b[38;5;28;01mwhile\u001b[39;00m pixis_get_temperature_status()\u001b[38;5;241m!=\u001b[39m\u001b[38;5;241m2\u001b[39m: \n\u001b[0;32m    233\u001b[0m         time\u001b[38;5;241m.\u001b[39msleep(\u001b[38;5;241m4\u001b[39m)\n",
      "\u001b[1;31mKeyboardInterrupt\u001b[0m: "
     ]
    }
   ],
   "source": [
    "pixis_set_temperature(-35.0)"
   ]
  },
  {
   "cell_type": "code",
   "execution_count": 4,
   "metadata": {},
   "outputs": [
    {
     "name": "stdout",
     "output_type": "stream",
     "text": [
      "Created empty folder D:\\Sophia\\20240626 for storing experiment files\n",
      "Custom directory set to D:\\Sophia\\20240626 \n"
     ]
    }
   ],
   "source": [
    "pixis_set_value(ExperimentSettings.OnlineExportEnabled,True) #enables export of acquired data other than the native *.spe format\n",
    "pixis_set_value(ExperimentSettings.OnlineExportFormat, AddIns.ExportFileType(1)) #  1 for FITS format\n",
    "pixis_set_value(ExperimentSettings.OnlineExportOutputOptionsExportedFilesOnly,True)\n",
    "pixis_set_value(ExperimentSettings.OnlineExportFormatOptionsIncludeExperimentInformation,True)\n",
    "exp_directory=pixis_set_folder(folder,'D:\\\\Sophia')\n",
    "pixis_set_value(ExperimentSettings.FileNameGenerationAttachDate,False)\n",
    "pixis_set_value(ExperimentSettings.FileNameGenerationAttachTime,False)\n",
    "pixis_set_value(ExperimentSettings.FileNameGenerationAttachIncrement,False)"
   ]
  },
  {
   "cell_type": "code",
   "execution_count": 5,
   "metadata": {},
   "outputs": [
    {
     "name": "stdout",
     "output_type": "stream",
     "text": [
      "home circuit enabled, prepared to home\n",
      "scanner is below home so moving up to home\n",
      "increasing wavelength at a rate of 23KHz\n",
      "Limits status is:34\n",
      "Limits status is:34\n",
      "Limits status is:34\n",
      "Limits status is:2\n",
      "scan controller stopped\n",
      "decrease wavelength for 3 revolutions\n",
      "increase wavelength for 2 revolutions\n",
      "high accuracy circuit enabled\n",
      "finding edge of home flag at 4500KHz, this will take about 12 seconds\n",
      "scan controller stopped\n",
      "homing movement successful\n",
      "disabled home circuit\n",
      "homing successful\n",
      "scan controller is moving for -221.0nm\n",
      "moving status: 33\n",
      "moving status: 33\n",
      "moving status: 33\n",
      "moving status: 33\n",
      "moving status: 33\n",
      "moving status: 33\n",
      "moving status: 33\n",
      "moving status: 33\n",
      "moving status: 33\n",
      "moving status: 33\n",
      "moving status: 33\n",
      "moving status: 33\n",
      "moving status: 33\n",
      "moving status: 33\n",
      "moving status: 33\n",
      "moving status: 33\n",
      "moving status: 33\n",
      "moving status: 33\n",
      "moving status: 33\n",
      "moving status: 33\n",
      "moving status: 33\n",
      "moving status: 33\n",
      "moving status: 33\n",
      "moving status: 33\n",
      "moving status: 33\n",
      "moving status: 33\n",
      "moving status: 33\n",
      "moving status: 33\n",
      "moving status: 33\n",
      "moving status: 33\n",
      "moving status: 33\n",
      "moving status: 33\n",
      "moving status: 33\n",
      "moving status: 33\n",
      "moving status: 49\n",
      "moving status: 0\n",
      "scan controller stopped\n",
      "Taking Bias\n",
      "Taking 1  frames\n",
      "Taking 1  frames\n",
      "Taking Dark\n",
      "Taking 1 dark frames\n",
      "Taking 1 dark frames\n",
      "Taking Exposure\n",
      "exposure time set to 10000.0\n",
      "Exposure complete\n",
      "Taking Exposure 2\n",
      "exposure time set to 10000.0\n",
      "Exposure complete\n",
      "Moving MC\n",
      "Monochromator is at 200.0\n",
      "scan controller is moving for 10.0 nm\n",
      "moving status: 49\n",
      "moving status: 0\n",
      "scan controller stopped\n",
      "Taking Bias\n",
      "Taking 1  frames\n",
      "Taking 1  frames\n",
      "Taking Dark\n",
      "Taking 1 dark frames\n",
      "Taking 1 dark frames\n",
      "Taking Exposure\n",
      "exposure time set to 10000.0\n",
      "Exposure complete\n",
      "Taking Exposure 2\n",
      "exposure time set to 10000.0\n",
      "Exposure complete\n",
      "Moving MC\n",
      "Monochromator is at 210.0\n",
      "scan controller is moving for 10.0 nm\n",
      "moving status: 49\n",
      "moving status: 0\n",
      "scan controller stopped\n",
      "Taking Bias\n",
      "Taking 1  frames\n",
      "Taking 1  frames\n",
      "Taking Dark\n",
      "Taking 1 dark frames\n",
      "Taking 1 dark frames\n"
     ]
    },
    {
     "ename": "KeyboardInterrupt",
     "evalue": "",
     "output_type": "error",
     "traceback": [
      "\u001b[1;31m---------------------------------------------------------------------------\u001b[0m",
      "\u001b[1;31mKeyboardInterrupt\u001b[0m                         Traceback (most recent call last)",
      "Cell \u001b[1;32mIn[5], line 24\u001b[0m\n\u001b[0;32m     22\u001b[0m pixis_take_dark_frames(\u001b[38;5;241m1\u001b[39m, exp_time)\n\u001b[0;32m     23\u001b[0m pixis_set_value(ExperimentSettings\u001b[38;5;241m.\u001b[39mFileNameGenerationBaseFileName, \u001b[38;5;124m'\u001b[39m\u001b[38;5;124mdark_\u001b[39m\u001b[38;5;132;01m{:.0f}\u001b[39;00m\u001b[38;5;124m_2\u001b[39m\u001b[38;5;124m'\u001b[39m\u001b[38;5;241m.\u001b[39mformat(current_wl))\n\u001b[1;32m---> 24\u001b[0m pixis_take_dark_frames(\u001b[38;5;241m1\u001b[39m, exp_time)\n\u001b[0;32m     26\u001b[0m \u001b[38;5;28mprint\u001b[39m(\u001b[38;5;124m'\u001b[39m\u001b[38;5;124mTaking Exposure\u001b[39m\u001b[38;5;124m'\u001b[39m)\n\u001b[0;32m     27\u001b[0m pixis_set_value(ExperimentSettings\u001b[38;5;241m.\u001b[39mFileNameGenerationBaseFileName, \u001b[38;5;124m'\u001b[39m\u001b[38;5;124mscience_\u001b[39m\u001b[38;5;132;01m{:.0f}\u001b[39;00m\u001b[38;5;124m_1\u001b[39m\u001b[38;5;124m'\u001b[39m\u001b[38;5;241m.\u001b[39mformat(current_wl))\n",
      "File \u001b[1;32md:\\GitHub\\Monochromator\\sophiaapi.py:154\u001b[0m, in \u001b[0;36mpixis_take_dark_frames\u001b[1;34m(n_dark, exposure_time)\u001b[0m\n\u001b[0;32m    152\u001b[0m waitUntil_ready()\n\u001b[0;32m    153\u001b[0m experiment\u001b[38;5;241m.\u001b[39mAcquire()\n\u001b[1;32m--> 154\u001b[0m waitUntil_ready()\n\u001b[0;32m    155\u001b[0m time\u001b[38;5;241m.\u001b[39msleep(\u001b[38;5;241m5\u001b[39m)\n",
      "File \u001b[1;32md:\\GitHub\\Monochromator\\sophiaapi.py:169\u001b[0m, in \u001b[0;36mwaitUntil_ready\u001b[1;34m(delay)\u001b[0m\n\u001b[0;32m    167\u001b[0m \u001b[38;5;28;01mif\u001b[39;00m condition: \u001b[38;5;66;03m#checks the condition\u001b[39;00m\n\u001b[0;32m    168\u001b[0m     wU \u001b[38;5;241m=\u001b[39m \u001b[38;5;28;01mFalse\u001b[39;00m\n\u001b[1;32m--> 169\u001b[0m time\u001b[38;5;241m.\u001b[39msleep(delay)\n",
      "\u001b[1;31mKeyboardInterrupt\u001b[0m: "
     ]
    }
   ],
   "source": [
    "start_wl=200.0 #nm\n",
    "end_wl=600.0 #nm\n",
    "wl_step=10.0 #nm \n",
    "exp_time=10000.0 #milliseconds \n",
    "\n",
    "mcapi.go_to_fromhome(MCPort, start_wl)\n",
    "\n",
    "pixis_set_value(CameraSettings.HardwareIOOutputSignal, AddIns.OutputSignal(5))\n",
    "pixis_set_value(CameraSettings.HardwareIOInvertOutputSignal, False)\n",
    "data = picoa_get_measurement(picoa,'D:/Sophia/{}/picoa_{:.0f}.csv'.format(folder, 0),interval,nsamples)\n",
    "pixis_set_value(CameraSettings.HardwareIOInvertOutputSignal, True)\n",
    "\n",
    "for current_wl in np.arange(start_wl, end_wl+wl_step, wl_step):\n",
    "    print('Taking Bias')\n",
    "    pixis_set_value(ExperimentSettings.FileNameGenerationBaseFileName, 'bias_{:.0f}_1'.format(current_wl))\n",
    "    pixis_take_bias_frames(1)\n",
    "    pixis_set_value(ExperimentSettings.FileNameGenerationBaseFileName, 'bias_{:.0f}_2'.format(current_wl))\n",
    "    pixis_take_bias_frames(1)\n",
    "\n",
    "    print('Taking Dark')\n",
    "    pixis_set_value(ExperimentSettings.FileNameGenerationBaseFileName, 'dark_{:.0f}_1'.format(current_wl))\n",
    "    pixis_take_dark_frames(1, exp_time)\n",
    "    pixis_set_value(ExperimentSettings.FileNameGenerationBaseFileName, 'dark_{:.0f}_2'.format(current_wl))\n",
    "    pixis_take_dark_frames(1, exp_time)\n",
    "    \n",
    "    print('Taking Exposure')\n",
    "    pixis_set_value(ExperimentSettings.FileNameGenerationBaseFileName, 'science_{:.0f}_1'.format(current_wl))\n",
    "    pixis_take_exposure(exp_time)\n",
    "    time.sleep(exp_time/1000)\n",
    "    print('Taking Exposure 2')\n",
    "    pixis_set_value(ExperimentSettings.FileNameGenerationBaseFileName, 'science_{:.0f}_2'.format(current_wl))\n",
    "    pixis_take_exposure(exp_time)\n",
    "\n",
    "    pixis_set_value(CameraSettings.HardwareIOOutputSignal, AddIns.OutputSignal(5))\n",
    "    pixis_set_value(CameraSettings.HardwareIOInvertOutputSignal, True)\n",
    "    data = picoa_get_measurement(picoa,'D:/Sophia/{}/picoa_{:.0f}.csv'.format(folder, current_wl),interval,nsamples)\n",
    "    pixis_set_value(CameraSettings.HardwareIOInvertOutputSignal, False)\n",
    "\n",
    "    print('Moving MC')\n",
    "    mcapi.go_to_from(MCPort,current_wl,current_wl+wl_step)\n",
    "\n",
    "print('Finished, homing MC')\n",
    "mcapi.home(MCPort)\n",
    "print(\"Scan complete\")\n",
    "# pixis_set_temperature(23)\n",
    "# pixis_get_current_temperature()"
   ]
  }
 ],
 "metadata": {
  "kernelspec": {
   "display_name": "Python 3.6.9 64-bit",
   "language": "python",
   "name": "python3"
  },
  "language_info": {
   "codemirror_mode": {
    "name": "ipython",
    "version": 3
   },
   "file_extension": ".py",
   "mimetype": "text/x-python",
   "name": "python",
   "nbconvert_exporter": "python",
   "pygments_lexer": "ipython3",
   "version": "3.11.7"
  },
  "orig_nbformat": 4,
  "vscode": {
   "interpreter": {
    "hash": "31f2aee4e71d21fbe5cf8b01ff0e069b9275f58929596ceb00d14d90e3e16cd6"
   }
  }
 },
 "nbformat": 4,
 "nbformat_minor": 2
}
