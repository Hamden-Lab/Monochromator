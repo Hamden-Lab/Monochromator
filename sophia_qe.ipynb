{
 "cells": [
  {
   "cell_type": "code",
   "execution_count": 2,
   "metadata": {},
   "outputs": [],
   "source": [
    "import numpy as np\n",
    "from astropy.io import fits\n",
    "import pandas as pd\n",
    "import os"
   ]
  },
  {
   "cell_type": "code",
   "execution_count": 9,
   "metadata": {},
   "outputs": [],
   "source": [
    "path = 'D:/Sophia/20240607/'\n",
    "files = os.listdir(path)\n",
    "pico_files = [i for i in files if '_2.csv' in i and 'pico' in i]\n",
    "\n",
    "qe_files = [i for i in files if '_2.fits' in i and 'science' in i]\n",
    "dark_files = [i for i in files if '_2.fits' in i and 'dark' in i]\n",
    "bias_files = [i for i in files if '_2.fits' in i and 'bias' in i]"
   ]
  },
  {
   "cell_type": "code",
   "execution_count": 10,
   "metadata": {},
   "outputs": [
    {
     "data": {
      "text/plain": [
       "['dark_200_2.fits',\n",
       " 'dark_210_2.fits',\n",
       " 'dark_220_2.fits',\n",
       " 'dark_230_2.fits',\n",
       " 'dark_240_2.fits',\n",
       " 'dark_250_2.fits',\n",
       " 'dark_260_2.fits',\n",
       " 'dark_270_2.fits',\n",
       " 'dark_280_2.fits',\n",
       " 'dark_290_2.fits',\n",
       " 'dark_300_2.fits',\n",
       " 'dark_310_2.fits',\n",
       " 'dark_320_2.fits',\n",
       " 'dark_330_2.fits',\n",
       " 'dark_340_2.fits',\n",
       " 'dark_350_2.fits',\n",
       " 'dark_360_2.fits',\n",
       " 'dark_370_2.fits',\n",
       " 'dark_380_2.fits',\n",
       " 'dark_390_2.fits',\n",
       " 'dark_400_2.fits',\n",
       " 'dark_410_2.fits',\n",
       " 'dark_420_2.fits',\n",
       " 'dark_430_2.fits',\n",
       " 'dark_440_2.fits',\n",
       " 'dark_450_2.fits',\n",
       " 'dark_460_2.fits',\n",
       " 'dark_470_2.fits',\n",
       " 'dark_480_2.fits',\n",
       " 'dark_490_2.fits',\n",
       " 'dark_500_2.fits',\n",
       " 'dark_510_2.fits',\n",
       " 'dark_520_2.fits',\n",
       " 'dark_530_2.fits',\n",
       " 'dark_540_2.fits',\n",
       " 'dark_550_2.fits',\n",
       " 'dark_560_2.fits',\n",
       " 'dark_570_2.fits',\n",
       " 'dark_580_2.fits',\n",
       " 'dark_590_2.fits',\n",
       " 'dark_600_2.fits']"
      ]
     },
     "execution_count": 10,
     "metadata": {},
     "output_type": "execute_result"
    }
   ],
   "source": [
    "dark_files"
   ]
  },
  {
   "cell_type": "code",
   "execution_count": 21,
   "metadata": {},
   "outputs": [],
   "source": [
    "for i in range(len(qe_files)):\n",
    "    hdu1 = fits.open(path + qe_files[i])\n",
    "    hdr = hdu1[0].header\n",
    "    qe_data_raw = hdu1[0].data\n",
    "    bias_data_raw = fits.open(path + bias_files[i])[0].data\n",
    "    dark_data_raw = fits.open(path + dark_files[i])[0].data\n",
    "\n",
    "    qe_data_b = qe_data_raw - bias_data_raw\n",
    "    qe_data_bd = qe_data_b/dark_data_raw\n",
    "\n",
    "    hdu_new = fits.PrimaryHDU(data=qe_data_bd)\n",
    "    hdu_new.writeto(path + qe_files[i].replace('.fits', '_bd.fits'))\n",
    "\n"
   ]
  },
  {
   "cell_type": "code",
   "execution_count": 20,
   "metadata": {},
   "outputs": [
    {
     "data": {
      "text/plain": [
       "'science_600_2.fits'"
      ]
     },
     "execution_count": 20,
     "metadata": {},
     "output_type": "execute_result"
    }
   ],
   "source": [
    "qe_files[i]"
   ]
  },
  {
   "cell_type": "code",
   "execution_count": 15,
   "metadata": {},
   "outputs": [],
   "source": [
    "f =open(path + 'data.csv','w+')\n",
    "f.write('Wavelength,Picoameter,Sophia\\n')\n",
    "f.close()\n",
    "\n",
    "for i in range(len(qe_pico_files)):\n",
    "    pico = qe_pico_files[i]\n",
    "    sophia = qe_sophia_files[i]\n",
    "\n",
    "    df = pd.read_csv(path + pico)\n",
    "\n",
    "    data_pico = np.sum(df['Ch1'])\n",
    "    data_sophia = np.sum(fits.open(path + sophia)[0].data)\n",
    "\n",
    "    wl = int(sophia[3:6])\n",
    "\n",
    "    f=open(path + 'data.csv','ab')\n",
    "    np.savetxt(f, np.array([[wl],[data_pico],[data_sophia]]).T, delimiter=',')\n",
    "    f.close()"
   ]
  },
  {
   "cell_type": "code",
   "execution_count": 10,
   "metadata": {},
   "outputs": [
    {
     "data": {
      "text/plain": [
       "'200'"
      ]
     },
     "execution_count": 10,
     "metadata": {},
     "output_type": "execute_result"
    }
   ],
   "source": [
    "sophia[3:6]"
   ]
  }
 ],
 "metadata": {
  "kernelspec": {
   "display_name": "base",
   "language": "python",
   "name": "python3"
  },
  "language_info": {
   "codemirror_mode": {
    "name": "ipython",
    "version": 3
   },
   "file_extension": ".py",
   "mimetype": "text/x-python",
   "name": "python",
   "nbconvert_exporter": "python",
   "pygments_lexer": "ipython3",
   "version": "3.11.7"
  }
 },
 "nbformat": 4,
 "nbformat_minor": 2
}
